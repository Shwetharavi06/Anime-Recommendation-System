{
 "cells": [
  {
   "cell_type": "markdown",
   "metadata": {},
   "source": [
    "# Anime Recommendation System"
   ]
  },
  {
   "cell_type": "markdown",
   "metadata": {},
   "source": [
    "### Load datastet"
   ]
  },
  {
   "cell_type": "code",
   "execution_count": 2,
   "metadata": {
    "id": "T8tzMO8jjPOO"
   },
   "outputs": [],
   "source": [
    "import pandas as pd\n",
    "import numpy as np\n",
    "import re"
   ]
  },
  {
   "cell_type": "code",
   "execution_count": 3,
   "metadata": {
    "colab": {
     "base_uri": "https://localhost:8080/",
     "height": 255
    },
    "id": "L2_rlxlLj1zz",
    "outputId": "bf571136-ee77-487e-e809-652400e0b0e0"
   },
   "outputs": [
    {
     "data": {
      "text/html": [
       "<div>\n",
       "<style scoped>\n",
       "    .dataframe tbody tr th:only-of-type {\n",
       "        vertical-align: middle;\n",
       "    }\n",
       "\n",
       "    .dataframe tbody tr th {\n",
       "        vertical-align: top;\n",
       "    }\n",
       "\n",
       "    .dataframe thead th {\n",
       "        text-align: right;\n",
       "    }\n",
       "</style>\n",
       "<table border=\"1\" class=\"dataframe\">\n",
       "  <thead>\n",
       "    <tr style=\"text-align: right;\">\n",
       "      <th></th>\n",
       "      <th>anime_id</th>\n",
       "      <th>name</th>\n",
       "      <th>genre</th>\n",
       "      <th>type</th>\n",
       "      <th>episodes</th>\n",
       "      <th>rating</th>\n",
       "      <th>members</th>\n",
       "    </tr>\n",
       "  </thead>\n",
       "  <tbody>\n",
       "    <tr>\n",
       "      <th>0</th>\n",
       "      <td>32281</td>\n",
       "      <td>Kimi no Na wa.</td>\n",
       "      <td>Drama, Romance, School, Supernatural</td>\n",
       "      <td>Movie</td>\n",
       "      <td>1</td>\n",
       "      <td>9.37</td>\n",
       "      <td>200630</td>\n",
       "    </tr>\n",
       "    <tr>\n",
       "      <th>1</th>\n",
       "      <td>5114</td>\n",
       "      <td>Fullmetal Alchemist: Brotherhood</td>\n",
       "      <td>Action, Adventure, Drama, Fantasy, Magic, Mili...</td>\n",
       "      <td>TV</td>\n",
       "      <td>64</td>\n",
       "      <td>9.26</td>\n",
       "      <td>793665</td>\n",
       "    </tr>\n",
       "    <tr>\n",
       "      <th>2</th>\n",
       "      <td>28977</td>\n",
       "      <td>Gintama°</td>\n",
       "      <td>Action, Comedy, Historical, Parody, Samurai, S...</td>\n",
       "      <td>TV</td>\n",
       "      <td>51</td>\n",
       "      <td>9.25</td>\n",
       "      <td>114262</td>\n",
       "    </tr>\n",
       "    <tr>\n",
       "      <th>3</th>\n",
       "      <td>9253</td>\n",
       "      <td>Steins;Gate</td>\n",
       "      <td>Sci-Fi, Thriller</td>\n",
       "      <td>TV</td>\n",
       "      <td>24</td>\n",
       "      <td>9.17</td>\n",
       "      <td>673572</td>\n",
       "    </tr>\n",
       "    <tr>\n",
       "      <th>4</th>\n",
       "      <td>9969</td>\n",
       "      <td>Gintama&amp;#039;</td>\n",
       "      <td>Action, Comedy, Historical, Parody, Samurai, S...</td>\n",
       "      <td>TV</td>\n",
       "      <td>51</td>\n",
       "      <td>9.16</td>\n",
       "      <td>151266</td>\n",
       "    </tr>\n",
       "    <tr>\n",
       "      <th>...</th>\n",
       "      <td>...</td>\n",
       "      <td>...</td>\n",
       "      <td>...</td>\n",
       "      <td>...</td>\n",
       "      <td>...</td>\n",
       "      <td>...</td>\n",
       "      <td>...</td>\n",
       "    </tr>\n",
       "    <tr>\n",
       "      <th>12289</th>\n",
       "      <td>9316</td>\n",
       "      <td>Toushindai My Lover: Minami tai Mecha-Minami</td>\n",
       "      <td>Hentai</td>\n",
       "      <td>OVA</td>\n",
       "      <td>1</td>\n",
       "      <td>4.15</td>\n",
       "      <td>211</td>\n",
       "    </tr>\n",
       "    <tr>\n",
       "      <th>12290</th>\n",
       "      <td>5543</td>\n",
       "      <td>Under World</td>\n",
       "      <td>Hentai</td>\n",
       "      <td>OVA</td>\n",
       "      <td>1</td>\n",
       "      <td>4.28</td>\n",
       "      <td>183</td>\n",
       "    </tr>\n",
       "    <tr>\n",
       "      <th>12291</th>\n",
       "      <td>5621</td>\n",
       "      <td>Violence Gekiga David no Hoshi</td>\n",
       "      <td>Hentai</td>\n",
       "      <td>OVA</td>\n",
       "      <td>4</td>\n",
       "      <td>4.88</td>\n",
       "      <td>219</td>\n",
       "    </tr>\n",
       "    <tr>\n",
       "      <th>12292</th>\n",
       "      <td>6133</td>\n",
       "      <td>Violence Gekiga Shin David no Hoshi: Inma Dens...</td>\n",
       "      <td>Hentai</td>\n",
       "      <td>OVA</td>\n",
       "      <td>1</td>\n",
       "      <td>4.98</td>\n",
       "      <td>175</td>\n",
       "    </tr>\n",
       "    <tr>\n",
       "      <th>12293</th>\n",
       "      <td>26081</td>\n",
       "      <td>Yasuji no Pornorama: Yacchimae!!</td>\n",
       "      <td>Hentai</td>\n",
       "      <td>Movie</td>\n",
       "      <td>1</td>\n",
       "      <td>5.46</td>\n",
       "      <td>142</td>\n",
       "    </tr>\n",
       "  </tbody>\n",
       "</table>\n",
       "<p>12294 rows × 7 columns</p>\n",
       "</div>"
      ],
      "text/plain": [
       "       anime_id                                               name  \\\n",
       "0         32281                                     Kimi no Na wa.   \n",
       "1          5114                   Fullmetal Alchemist: Brotherhood   \n",
       "2         28977                                           Gintama°   \n",
       "3          9253                                        Steins;Gate   \n",
       "4          9969                                      Gintama&#039;   \n",
       "...         ...                                                ...   \n",
       "12289      9316       Toushindai My Lover: Minami tai Mecha-Minami   \n",
       "12290      5543                                        Under World   \n",
       "12291      5621                     Violence Gekiga David no Hoshi   \n",
       "12292      6133  Violence Gekiga Shin David no Hoshi: Inma Dens...   \n",
       "12293     26081                   Yasuji no Pornorama: Yacchimae!!   \n",
       "\n",
       "                                                   genre   type episodes  \\\n",
       "0                   Drama, Romance, School, Supernatural  Movie        1   \n",
       "1      Action, Adventure, Drama, Fantasy, Magic, Mili...     TV       64   \n",
       "2      Action, Comedy, Historical, Parody, Samurai, S...     TV       51   \n",
       "3                                       Sci-Fi, Thriller     TV       24   \n",
       "4      Action, Comedy, Historical, Parody, Samurai, S...     TV       51   \n",
       "...                                                  ...    ...      ...   \n",
       "12289                                             Hentai    OVA        1   \n",
       "12290                                             Hentai    OVA        1   \n",
       "12291                                             Hentai    OVA        4   \n",
       "12292                                             Hentai    OVA        1   \n",
       "12293                                             Hentai  Movie        1   \n",
       "\n",
       "       rating  members  \n",
       "0        9.37   200630  \n",
       "1        9.26   793665  \n",
       "2        9.25   114262  \n",
       "3        9.17   673572  \n",
       "4        9.16   151266  \n",
       "...       ...      ...  \n",
       "12289    4.15      211  \n",
       "12290    4.28      183  \n",
       "12291    4.88      219  \n",
       "12292    4.98      175  \n",
       "12293    5.46      142  \n",
       "\n",
       "[12294 rows x 7 columns]"
      ]
     },
     "execution_count": 3,
     "metadata": {},
     "output_type": "execute_result"
    }
   ],
   "source": [
    "data = pd.read_csv('anime.csv')\n",
    "data"
   ]
  },
  {
   "cell_type": "code",
   "execution_count": 4,
   "metadata": {},
   "outputs": [
    {
     "data": {
      "text/html": [
       "<div>\n",
       "<style scoped>\n",
       "    .dataframe tbody tr th:only-of-type {\n",
       "        vertical-align: middle;\n",
       "    }\n",
       "\n",
       "    .dataframe tbody tr th {\n",
       "        vertical-align: top;\n",
       "    }\n",
       "\n",
       "    .dataframe thead th {\n",
       "        text-align: right;\n",
       "    }\n",
       "</style>\n",
       "<table border=\"1\" class=\"dataframe\">\n",
       "  <thead>\n",
       "    <tr style=\"text-align: right;\">\n",
       "      <th></th>\n",
       "      <th>anime_id</th>\n",
       "      <th>name</th>\n",
       "      <th>genre</th>\n",
       "      <th>type</th>\n",
       "      <th>episodes</th>\n",
       "      <th>rating</th>\n",
       "      <th>members</th>\n",
       "    </tr>\n",
       "  </thead>\n",
       "  <tbody>\n",
       "    <tr>\n",
       "      <th>0</th>\n",
       "      <td>32281</td>\n",
       "      <td>Kimi no Na wa.</td>\n",
       "      <td>Drama, Romance, School, Supernatural</td>\n",
       "      <td>Movie</td>\n",
       "      <td>1</td>\n",
       "      <td>9.37</td>\n",
       "      <td>200630</td>\n",
       "    </tr>\n",
       "    <tr>\n",
       "      <th>1</th>\n",
       "      <td>5114</td>\n",
       "      <td>Fullmetal Alchemist: Brotherhood</td>\n",
       "      <td>Action, Adventure, Drama, Fantasy, Magic, Mili...</td>\n",
       "      <td>TV</td>\n",
       "      <td>64</td>\n",
       "      <td>9.26</td>\n",
       "      <td>793665</td>\n",
       "    </tr>\n",
       "    <tr>\n",
       "      <th>2</th>\n",
       "      <td>28977</td>\n",
       "      <td>Gintama°</td>\n",
       "      <td>Action, Comedy, Historical, Parody, Samurai, S...</td>\n",
       "      <td>TV</td>\n",
       "      <td>51</td>\n",
       "      <td>9.25</td>\n",
       "      <td>114262</td>\n",
       "    </tr>\n",
       "    <tr>\n",
       "      <th>3</th>\n",
       "      <td>9253</td>\n",
       "      <td>Steins;Gate</td>\n",
       "      <td>Sci-Fi, Thriller</td>\n",
       "      <td>TV</td>\n",
       "      <td>24</td>\n",
       "      <td>9.17</td>\n",
       "      <td>673572</td>\n",
       "    </tr>\n",
       "    <tr>\n",
       "      <th>4</th>\n",
       "      <td>9969</td>\n",
       "      <td>Gintama&amp;#039;</td>\n",
       "      <td>Action, Comedy, Historical, Parody, Samurai, S...</td>\n",
       "      <td>TV</td>\n",
       "      <td>51</td>\n",
       "      <td>9.16</td>\n",
       "      <td>151266</td>\n",
       "    </tr>\n",
       "  </tbody>\n",
       "</table>\n",
       "</div>"
      ],
      "text/plain": [
       "   anime_id                              name  \\\n",
       "0     32281                    Kimi no Na wa.   \n",
       "1      5114  Fullmetal Alchemist: Brotherhood   \n",
       "2     28977                          Gintama°   \n",
       "3      9253                       Steins;Gate   \n",
       "4      9969                     Gintama&#039;   \n",
       "\n",
       "                                               genre   type episodes  rating  \\\n",
       "0               Drama, Romance, School, Supernatural  Movie        1    9.37   \n",
       "1  Action, Adventure, Drama, Fantasy, Magic, Mili...     TV       64    9.26   \n",
       "2  Action, Comedy, Historical, Parody, Samurai, S...     TV       51    9.25   \n",
       "3                                   Sci-Fi, Thriller     TV       24    9.17   \n",
       "4  Action, Comedy, Historical, Parody, Samurai, S...     TV       51    9.16   \n",
       "\n",
       "   members  \n",
       "0   200630  \n",
       "1   793665  \n",
       "2   114262  \n",
       "3   673572  \n",
       "4   151266  "
      ]
     },
     "execution_count": 4,
     "metadata": {},
     "output_type": "execute_result"
    }
   ],
   "source": [
    "data.head()"
   ]
  },
  {
   "cell_type": "code",
   "execution_count": 5,
   "metadata": {
    "colab": {
     "base_uri": "https://localhost:8080/"
    },
    "id": "RZfgrMVQjwX0",
    "outputId": "af0d91cc-2af9-4d78-80ac-f966df99b693"
   },
   "outputs": [
    {
     "data": {
      "text/plain": [
       "anime_id      0\n",
       "name          0\n",
       "genre        62\n",
       "type         25\n",
       "episodes      0\n",
       "rating      230\n",
       "members       0\n",
       "dtype: int64"
      ]
     },
     "execution_count": 5,
     "metadata": {},
     "output_type": "execute_result"
    }
   ],
   "source": [
    "data.isna().sum()"
   ]
  },
  {
   "cell_type": "markdown",
   "metadata": {},
   "source": [
    "### Data Preprocessing"
   ]
  },
  {
   "cell_type": "code",
   "execution_count": 6,
   "metadata": {
    "colab": {
     "base_uri": "https://localhost:8080/"
    },
    "id": "EJhL40d-k_TS",
    "outputId": "88c9176c-fbc6-47fc-fe49-f4dab251e3bd"
   },
   "outputs": [
    {
     "data": {
      "text/plain": [
       "array(['Movie', 'TV', 'OVA', 'Special', 'Music', 'ONA', nan], dtype=object)"
      ]
     },
     "execution_count": 6,
     "metadata": {},
     "output_type": "execute_result"
    }
   ],
   "source": [
    "data['type'].unique()"
   ]
  },
  {
   "cell_type": "code",
   "execution_count": 7,
   "metadata": {
    "colab": {
     "base_uri": "https://localhost:8080/",
     "height": 538
    },
    "id": "3-Qf1DSzlRGB",
    "outputId": "2fc6ea02-682b-48c2-f568-1ddcbbae1a53"
   },
   "outputs": [
    {
     "data": {
      "text/html": [
       "<div>\n",
       "<style scoped>\n",
       "    .dataframe tbody tr th:only-of-type {\n",
       "        vertical-align: middle;\n",
       "    }\n",
       "\n",
       "    .dataframe tbody tr th {\n",
       "        vertical-align: top;\n",
       "    }\n",
       "\n",
       "    .dataframe thead th {\n",
       "        text-align: right;\n",
       "    }\n",
       "</style>\n",
       "<table border=\"1\" class=\"dataframe\">\n",
       "  <thead>\n",
       "    <tr style=\"text-align: right;\">\n",
       "      <th></th>\n",
       "      <th>anime_id</th>\n",
       "      <th>name</th>\n",
       "      <th>genre</th>\n",
       "      <th>type</th>\n",
       "      <th>episodes</th>\n",
       "      <th>rating</th>\n",
       "      <th>members</th>\n",
       "    </tr>\n",
       "  </thead>\n",
       "  <tbody>\n",
       "    <tr>\n",
       "      <th>74</th>\n",
       "      <td>21</td>\n",
       "      <td>One Piece</td>\n",
       "      <td>Action, Adventure, Comedy, Drama, Fantasy, Sho...</td>\n",
       "      <td>TV</td>\n",
       "      <td>Unknown</td>\n",
       "      <td>8.58</td>\n",
       "      <td>504862</td>\n",
       "    </tr>\n",
       "    <tr>\n",
       "      <th>252</th>\n",
       "      <td>235</td>\n",
       "      <td>Detective Conan</td>\n",
       "      <td>Adventure, Comedy, Mystery, Police, Shounen</td>\n",
       "      <td>TV</td>\n",
       "      <td>Unknown</td>\n",
       "      <td>8.25</td>\n",
       "      <td>114702</td>\n",
       "    </tr>\n",
       "    <tr>\n",
       "      <th>615</th>\n",
       "      <td>1735</td>\n",
       "      <td>Naruto: Shippuuden</td>\n",
       "      <td>Action, Comedy, Martial Arts, Shounen, Super P...</td>\n",
       "      <td>TV</td>\n",
       "      <td>Unknown</td>\n",
       "      <td>7.94</td>\n",
       "      <td>533578</td>\n",
       "    </tr>\n",
       "    <tr>\n",
       "      <th>991</th>\n",
       "      <td>966</td>\n",
       "      <td>Crayon Shin-chan</td>\n",
       "      <td>Comedy, Ecchi, Kids, School, Shounen, Slice of...</td>\n",
       "      <td>TV</td>\n",
       "      <td>Unknown</td>\n",
       "      <td>7.73</td>\n",
       "      <td>26267</td>\n",
       "    </tr>\n",
       "    <tr>\n",
       "      <th>1021</th>\n",
       "      <td>33157</td>\n",
       "      <td>Tanaka-kun wa Itsumo Kedaruge Specials</td>\n",
       "      <td>Comedy, School, Slice of Life</td>\n",
       "      <td>Special</td>\n",
       "      <td>Unknown</td>\n",
       "      <td>7.72</td>\n",
       "      <td>5400</td>\n",
       "    </tr>\n",
       "    <tr>\n",
       "      <th>...</th>\n",
       "      <td>...</td>\n",
       "      <td>...</td>\n",
       "      <td>...</td>\n",
       "      <td>...</td>\n",
       "      <td>...</td>\n",
       "      <td>...</td>\n",
       "      <td>...</td>\n",
       "    </tr>\n",
       "    <tr>\n",
       "      <th>12265</th>\n",
       "      <td>34361</td>\n",
       "      <td>Kyonyuu Reijou MC Gakuen</td>\n",
       "      <td>Hentai</td>\n",
       "      <td>OVA</td>\n",
       "      <td>Unknown</td>\n",
       "      <td>NaN</td>\n",
       "      <td>205</td>\n",
       "    </tr>\n",
       "    <tr>\n",
       "      <th>12274</th>\n",
       "      <td>34492</td>\n",
       "      <td>Nuki Doki! Tenshi to Akuma no Sakusei Battle -...</td>\n",
       "      <td>Hentai</td>\n",
       "      <td>OVA</td>\n",
       "      <td>Unknown</td>\n",
       "      <td>NaN</td>\n",
       "      <td>392</td>\n",
       "    </tr>\n",
       "    <tr>\n",
       "      <th>12280</th>\n",
       "      <td>34312</td>\n",
       "      <td>Saimin Class</td>\n",
       "      <td>Hentai</td>\n",
       "      <td>OVA</td>\n",
       "      <td>Unknown</td>\n",
       "      <td>NaN</td>\n",
       "      <td>240</td>\n",
       "    </tr>\n",
       "    <tr>\n",
       "      <th>12282</th>\n",
       "      <td>34388</td>\n",
       "      <td>Shikkoku no Shaga The Animation</td>\n",
       "      <td>Hentai</td>\n",
       "      <td>OVA</td>\n",
       "      <td>Unknown</td>\n",
       "      <td>NaN</td>\n",
       "      <td>195</td>\n",
       "    </tr>\n",
       "    <tr>\n",
       "      <th>12285</th>\n",
       "      <td>34399</td>\n",
       "      <td>Taimanin Asagi 3</td>\n",
       "      <td>Demons, Hentai, Supernatural</td>\n",
       "      <td>OVA</td>\n",
       "      <td>Unknown</td>\n",
       "      <td>NaN</td>\n",
       "      <td>485</td>\n",
       "    </tr>\n",
       "  </tbody>\n",
       "</table>\n",
       "<p>340 rows × 7 columns</p>\n",
       "</div>"
      ],
      "text/plain": [
       "       anime_id                                               name  \\\n",
       "74           21                                          One Piece   \n",
       "252         235                                    Detective Conan   \n",
       "615        1735                                 Naruto: Shippuuden   \n",
       "991         966                                   Crayon Shin-chan   \n",
       "1021      33157             Tanaka-kun wa Itsumo Kedaruge Specials   \n",
       "...         ...                                                ...   \n",
       "12265     34361                           Kyonyuu Reijou MC Gakuen   \n",
       "12274     34492  Nuki Doki! Tenshi to Akuma no Sakusei Battle -...   \n",
       "12280     34312                                       Saimin Class   \n",
       "12282     34388                    Shikkoku no Shaga The Animation   \n",
       "12285     34399                                   Taimanin Asagi 3   \n",
       "\n",
       "                                                   genre     type episodes  \\\n",
       "74     Action, Adventure, Comedy, Drama, Fantasy, Sho...       TV  Unknown   \n",
       "252          Adventure, Comedy, Mystery, Police, Shounen       TV  Unknown   \n",
       "615    Action, Comedy, Martial Arts, Shounen, Super P...       TV  Unknown   \n",
       "991    Comedy, Ecchi, Kids, School, Shounen, Slice of...       TV  Unknown   \n",
       "1021                       Comedy, School, Slice of Life  Special  Unknown   \n",
       "...                                                  ...      ...      ...   \n",
       "12265                                             Hentai      OVA  Unknown   \n",
       "12274                                             Hentai      OVA  Unknown   \n",
       "12280                                             Hentai      OVA  Unknown   \n",
       "12282                                             Hentai      OVA  Unknown   \n",
       "12285                       Demons, Hentai, Supernatural      OVA  Unknown   \n",
       "\n",
       "       rating  members  \n",
       "74       8.58   504862  \n",
       "252      8.25   114702  \n",
       "615      7.94   533578  \n",
       "991      7.73    26267  \n",
       "1021     7.72     5400  \n",
       "...       ...      ...  \n",
       "12265     NaN      205  \n",
       "12274     NaN      392  \n",
       "12280     NaN      240  \n",
       "12282     NaN      195  \n",
       "12285     NaN      485  \n",
       "\n",
       "[340 rows x 7 columns]"
      ]
     },
     "execution_count": 7,
     "metadata": {},
     "output_type": "execute_result"
    }
   ],
   "source": [
    "data[data['episodes'] == 'Unknown']"
   ]
  },
  {
   "cell_type": "code",
   "execution_count": 8,
   "metadata": {
    "colab": {
     "base_uri": "https://localhost:8080/"
    },
    "id": "hWZQVzqslTEb",
    "outputId": "824d3fb4-73ca-4596-bdad-f5fcdd5a2c30"
   },
   "outputs": [
    {
     "data": {
      "text/plain": [
       "array(['Drama, Romance, School, Supernatural',\n",
       "       'Action, Adventure, Drama, Fantasy, Magic, Military, Shounen',\n",
       "       'Action, Comedy, Historical, Parody, Samurai, Sci-Fi, Shounen',\n",
       "       ..., 'Hentai, Sports', 'Drama, Romance, School, Yuri',\n",
       "       'Hentai, Slice of Life'], dtype=object)"
      ]
     },
     "execution_count": 8,
     "metadata": {},
     "output_type": "execute_result"
    }
   ],
   "source": [
    "data['genre'].unique()"
   ]
  },
  {
   "cell_type": "code",
   "execution_count": 9,
   "metadata": {
    "id": "Kbg2HlgPlVYO"
   },
   "outputs": [],
   "source": [
    "data.loc[(data['type'] == 'TV') & (data['episodes'] == 'Unknown'),\"episodes\"] = 1\n",
    "data.loc[(data['type'] == 'OVA') & (data['episodes'] == 'Unknown'),\"episodes\"] = 1\n",
    "data.loc[(data['type'] == 'Movie') & (data['episodes'] == 'Unknown'),\"episodes\"] = 1"
   ]
  },
  {
   "cell_type": "code",
   "execution_count": 10,
   "metadata": {
    "colab": {
     "base_uri": "https://localhost:8080/",
     "height": 49
    },
    "id": "umpfVHwjlZCd",
    "outputId": "16a2f39e-7ad1-4b22-e8a7-6859e619811a"
   },
   "outputs": [
    {
     "data": {
      "text/html": [
       "<div>\n",
       "<style scoped>\n",
       "    .dataframe tbody tr th:only-of-type {\n",
       "        vertical-align: middle;\n",
       "    }\n",
       "\n",
       "    .dataframe tbody tr th {\n",
       "        vertical-align: top;\n",
       "    }\n",
       "\n",
       "    .dataframe thead th {\n",
       "        text-align: right;\n",
       "    }\n",
       "</style>\n",
       "<table border=\"1\" class=\"dataframe\">\n",
       "  <thead>\n",
       "    <tr style=\"text-align: right;\">\n",
       "      <th></th>\n",
       "      <th>anime_id</th>\n",
       "      <th>name</th>\n",
       "      <th>genre</th>\n",
       "      <th>type</th>\n",
       "      <th>episodes</th>\n",
       "      <th>rating</th>\n",
       "      <th>members</th>\n",
       "    </tr>\n",
       "  </thead>\n",
       "  <tbody>\n",
       "    <tr>\n",
       "      <th>1021</th>\n",
       "      <td>33157</td>\n",
       "      <td>Tanaka-kun wa Itsumo Kedaruge Specials</td>\n",
       "      <td>Comedy, School, Slice of Life</td>\n",
       "      <td>Special</td>\n",
       "      <td>Unknown</td>\n",
       "      <td>7.72</td>\n",
       "      <td>5400</td>\n",
       "    </tr>\n",
       "    <tr>\n",
       "      <th>1928</th>\n",
       "      <td>32410</td>\n",
       "      <td>Dimension W: W no Tobira Online</td>\n",
       "      <td>Sci-Fi, Seinen</td>\n",
       "      <td>Special</td>\n",
       "      <td>Unknown</td>\n",
       "      <td>7.40</td>\n",
       "      <td>4799</td>\n",
       "    </tr>\n",
       "    <tr>\n",
       "      <th>2368</th>\n",
       "      <td>34178</td>\n",
       "      <td>Inazuma Eleven: Outer Code</td>\n",
       "      <td>Sports</td>\n",
       "      <td>ONA</td>\n",
       "      <td>Unknown</td>\n",
       "      <td>7.28</td>\n",
       "      <td>1072</td>\n",
       "    </tr>\n",
       "    <tr>\n",
       "      <th>5655</th>\n",
       "      <td>7505</td>\n",
       "      <td>Knyacki!</td>\n",
       "      <td>Comedy, Drama, Fantasy, Kids</td>\n",
       "      <td>ONA</td>\n",
       "      <td>Unknown</td>\n",
       "      <td>6.38</td>\n",
       "      <td>242</td>\n",
       "    </tr>\n",
       "    <tr>\n",
       "      <th>5995</th>\n",
       "      <td>32932</td>\n",
       "      <td>Choujuu Giga</td>\n",
       "      <td>Romance</td>\n",
       "      <td>ONA</td>\n",
       "      <td>Unknown</td>\n",
       "      <td>6.28</td>\n",
       "      <td>466</td>\n",
       "    </tr>\n",
       "    <tr>\n",
       "      <th>...</th>\n",
       "      <td>...</td>\n",
       "      <td>...</td>\n",
       "      <td>...</td>\n",
       "      <td>...</td>\n",
       "      <td>...</td>\n",
       "      <td>...</td>\n",
       "      <td>...</td>\n",
       "    </tr>\n",
       "    <tr>\n",
       "      <th>11070</th>\n",
       "      <td>32032</td>\n",
       "      <td>Seikaisuru Kado</td>\n",
       "      <td>NaN</td>\n",
       "      <td>NaN</td>\n",
       "      <td>Unknown</td>\n",
       "      <td>NaN</td>\n",
       "      <td>1797</td>\n",
       "    </tr>\n",
       "    <tr>\n",
       "      <th>11101</th>\n",
       "      <td>33478</td>\n",
       "      <td>UQ Holder!</td>\n",
       "      <td>Action, Fantasy, Magic, Sci-Fi, Shounen</td>\n",
       "      <td>NaN</td>\n",
       "      <td>Unknown</td>\n",
       "      <td>NaN</td>\n",
       "      <td>2341</td>\n",
       "    </tr>\n",
       "    <tr>\n",
       "      <th>11105</th>\n",
       "      <td>34022</td>\n",
       "      <td>Whistle! (ONA)</td>\n",
       "      <td>School, Shounen, Sports</td>\n",
       "      <td>ONA</td>\n",
       "      <td>Unknown</td>\n",
       "      <td>NaN</td>\n",
       "      <td>381</td>\n",
       "    </tr>\n",
       "    <tr>\n",
       "      <th>12252</th>\n",
       "      <td>34382</td>\n",
       "      <td>Citrus</td>\n",
       "      <td>Drama, Romance, School, Yuri</td>\n",
       "      <td>NaN</td>\n",
       "      <td>Unknown</td>\n",
       "      <td>NaN</td>\n",
       "      <td>2459</td>\n",
       "    </tr>\n",
       "    <tr>\n",
       "      <th>12259</th>\n",
       "      <td>33654</td>\n",
       "      <td>Hitorijime My Hero</td>\n",
       "      <td>Yaoi</td>\n",
       "      <td>NaN</td>\n",
       "      <td>Unknown</td>\n",
       "      <td>NaN</td>\n",
       "      <td>1574</td>\n",
       "    </tr>\n",
       "  </tbody>\n",
       "</table>\n",
       "<p>77 rows × 7 columns</p>\n",
       "</div>"
      ],
      "text/plain": [
       "       anime_id                                    name  \\\n",
       "1021      33157  Tanaka-kun wa Itsumo Kedaruge Specials   \n",
       "1928      32410         Dimension W: W no Tobira Online   \n",
       "2368      34178              Inazuma Eleven: Outer Code   \n",
       "5655       7505                                Knyacki!   \n",
       "5995      32932                            Choujuu Giga   \n",
       "...         ...                                     ...   \n",
       "11070     32032                         Seikaisuru Kado   \n",
       "11101     33478                              UQ Holder!   \n",
       "11105     34022                          Whistle! (ONA)   \n",
       "12252     34382                                  Citrus   \n",
       "12259     33654                      Hitorijime My Hero   \n",
       "\n",
       "                                         genre     type episodes  rating  \\\n",
       "1021             Comedy, School, Slice of Life  Special  Unknown    7.72   \n",
       "1928                            Sci-Fi, Seinen  Special  Unknown    7.40   \n",
       "2368                                    Sports      ONA  Unknown    7.28   \n",
       "5655              Comedy, Drama, Fantasy, Kids      ONA  Unknown    6.38   \n",
       "5995                                   Romance      ONA  Unknown    6.28   \n",
       "...                                        ...      ...      ...     ...   \n",
       "11070                                      NaN      NaN  Unknown     NaN   \n",
       "11101  Action, Fantasy, Magic, Sci-Fi, Shounen      NaN  Unknown     NaN   \n",
       "11105                  School, Shounen, Sports      ONA  Unknown     NaN   \n",
       "12252             Drama, Romance, School, Yuri      NaN  Unknown     NaN   \n",
       "12259                                     Yaoi      NaN  Unknown     NaN   \n",
       "\n",
       "       members  \n",
       "1021      5400  \n",
       "1928      4799  \n",
       "2368      1072  \n",
       "5655       242  \n",
       "5995       466  \n",
       "...        ...  \n",
       "11070     1797  \n",
       "11101     2341  \n",
       "11105      381  \n",
       "12252     2459  \n",
       "12259     1574  \n",
       "\n",
       "[77 rows x 7 columns]"
      ]
     },
     "execution_count": 10,
     "metadata": {},
     "output_type": "execute_result"
    }
   ],
   "source": [
    "data[data['episodes'] == 'Unknown']"
   ]
  },
  {
   "cell_type": "code",
   "execution_count": 11,
   "metadata": {
    "id": "N92ei1Zola0l"
   },
   "outputs": [],
   "source": [
    "known_animes = {\"Naruto Shippuuden\":500, \"One Piece\":784,\"Detective Conan\":854, \"Dragon Ball Super\":86,\n",
    "                \"Crayon Shin chan\":942, \"Yu Gi Oh Arc V\":148,\"Shingeki no Kyojin Season 2\":25,\n",
    "                \"Boku no Hero Academia 2nd Season\":25,\"Little Witch Academia TV\":25}"
   ]
  },
  {
   "cell_type": "code",
   "execution_count": 12,
   "metadata": {
    "id": "a-4XdizKlcT8"
   },
   "outputs": [],
   "source": [
    "for key,values in known_animes.items():\n",
    "    data.loc[data['name'] == key, \"episodes\"] = values"
   ]
  },
  {
   "cell_type": "code",
   "execution_count": 13,
   "metadata": {
    "colab": {
     "base_uri": "https://localhost:8080/",
     "height": 453
    },
    "id": "cvHd5erDleph",
    "outputId": "9e463208-1ad3-423a-e565-b455c891289d"
   },
   "outputs": [
    {
     "data": {
      "text/html": [
       "<div>\n",
       "<style scoped>\n",
       "    .dataframe tbody tr th:only-of-type {\n",
       "        vertical-align: middle;\n",
       "    }\n",
       "\n",
       "    .dataframe tbody tr th {\n",
       "        vertical-align: top;\n",
       "    }\n",
       "\n",
       "    .dataframe thead th {\n",
       "        text-align: right;\n",
       "    }\n",
       "</style>\n",
       "<table border=\"1\" class=\"dataframe\">\n",
       "  <thead>\n",
       "    <tr style=\"text-align: right;\">\n",
       "      <th></th>\n",
       "      <th>anime_id</th>\n",
       "      <th>name</th>\n",
       "      <th>genre</th>\n",
       "      <th>type</th>\n",
       "      <th>episodes</th>\n",
       "      <th>rating</th>\n",
       "      <th>members</th>\n",
       "    </tr>\n",
       "  </thead>\n",
       "  <tbody>\n",
       "    <tr>\n",
       "      <th>1021</th>\n",
       "      <td>33157</td>\n",
       "      <td>Tanaka-kun wa Itsumo Kedaruge Specials</td>\n",
       "      <td>Comedy, School, Slice of Life</td>\n",
       "      <td>Special</td>\n",
       "      <td>Unknown</td>\n",
       "      <td>7.72</td>\n",
       "      <td>5400</td>\n",
       "    </tr>\n",
       "    <tr>\n",
       "      <th>1928</th>\n",
       "      <td>32410</td>\n",
       "      <td>Dimension W: W no Tobira Online</td>\n",
       "      <td>Sci-Fi, Seinen</td>\n",
       "      <td>Special</td>\n",
       "      <td>Unknown</td>\n",
       "      <td>7.40</td>\n",
       "      <td>4799</td>\n",
       "    </tr>\n",
       "    <tr>\n",
       "      <th>2368</th>\n",
       "      <td>34178</td>\n",
       "      <td>Inazuma Eleven: Outer Code</td>\n",
       "      <td>Sports</td>\n",
       "      <td>ONA</td>\n",
       "      <td>Unknown</td>\n",
       "      <td>7.28</td>\n",
       "      <td>1072</td>\n",
       "    </tr>\n",
       "    <tr>\n",
       "      <th>5655</th>\n",
       "      <td>7505</td>\n",
       "      <td>Knyacki!</td>\n",
       "      <td>Comedy, Drama, Fantasy, Kids</td>\n",
       "      <td>ONA</td>\n",
       "      <td>Unknown</td>\n",
       "      <td>6.38</td>\n",
       "      <td>242</td>\n",
       "    </tr>\n",
       "    <tr>\n",
       "      <th>5995</th>\n",
       "      <td>32932</td>\n",
       "      <td>Choujuu Giga</td>\n",
       "      <td>Romance</td>\n",
       "      <td>ONA</td>\n",
       "      <td>Unknown</td>\n",
       "      <td>6.28</td>\n",
       "      <td>466</td>\n",
       "    </tr>\n",
       "    <tr>\n",
       "      <th>...</th>\n",
       "      <td>...</td>\n",
       "      <td>...</td>\n",
       "      <td>...</td>\n",
       "      <td>...</td>\n",
       "      <td>...</td>\n",
       "      <td>...</td>\n",
       "      <td>...</td>\n",
       "    </tr>\n",
       "    <tr>\n",
       "      <th>11070</th>\n",
       "      <td>32032</td>\n",
       "      <td>Seikaisuru Kado</td>\n",
       "      <td>NaN</td>\n",
       "      <td>NaN</td>\n",
       "      <td>Unknown</td>\n",
       "      <td>NaN</td>\n",
       "      <td>1797</td>\n",
       "    </tr>\n",
       "    <tr>\n",
       "      <th>11101</th>\n",
       "      <td>33478</td>\n",
       "      <td>UQ Holder!</td>\n",
       "      <td>Action, Fantasy, Magic, Sci-Fi, Shounen</td>\n",
       "      <td>NaN</td>\n",
       "      <td>Unknown</td>\n",
       "      <td>NaN</td>\n",
       "      <td>2341</td>\n",
       "    </tr>\n",
       "    <tr>\n",
       "      <th>11105</th>\n",
       "      <td>34022</td>\n",
       "      <td>Whistle! (ONA)</td>\n",
       "      <td>School, Shounen, Sports</td>\n",
       "      <td>ONA</td>\n",
       "      <td>Unknown</td>\n",
       "      <td>NaN</td>\n",
       "      <td>381</td>\n",
       "    </tr>\n",
       "    <tr>\n",
       "      <th>12252</th>\n",
       "      <td>34382</td>\n",
       "      <td>Citrus</td>\n",
       "      <td>Drama, Romance, School, Yuri</td>\n",
       "      <td>NaN</td>\n",
       "      <td>Unknown</td>\n",
       "      <td>NaN</td>\n",
       "      <td>2459</td>\n",
       "    </tr>\n",
       "    <tr>\n",
       "      <th>12259</th>\n",
       "      <td>33654</td>\n",
       "      <td>Hitorijime My Hero</td>\n",
       "      <td>Yaoi</td>\n",
       "      <td>NaN</td>\n",
       "      <td>Unknown</td>\n",
       "      <td>NaN</td>\n",
       "      <td>1574</td>\n",
       "    </tr>\n",
       "  </tbody>\n",
       "</table>\n",
       "<p>77 rows × 7 columns</p>\n",
       "</div>"
      ],
      "text/plain": [
       "       anime_id                                    name  \\\n",
       "1021      33157  Tanaka-kun wa Itsumo Kedaruge Specials   \n",
       "1928      32410         Dimension W: W no Tobira Online   \n",
       "2368      34178              Inazuma Eleven: Outer Code   \n",
       "5655       7505                                Knyacki!   \n",
       "5995      32932                            Choujuu Giga   \n",
       "...         ...                                     ...   \n",
       "11070     32032                         Seikaisuru Kado   \n",
       "11101     33478                              UQ Holder!   \n",
       "11105     34022                          Whistle! (ONA)   \n",
       "12252     34382                                  Citrus   \n",
       "12259     33654                      Hitorijime My Hero   \n",
       "\n",
       "                                         genre     type episodes  rating  \\\n",
       "1021             Comedy, School, Slice of Life  Special  Unknown    7.72   \n",
       "1928                            Sci-Fi, Seinen  Special  Unknown    7.40   \n",
       "2368                                    Sports      ONA  Unknown    7.28   \n",
       "5655              Comedy, Drama, Fantasy, Kids      ONA  Unknown    6.38   \n",
       "5995                                   Romance      ONA  Unknown    6.28   \n",
       "...                                        ...      ...      ...     ...   \n",
       "11070                                      NaN      NaN  Unknown     NaN   \n",
       "11101  Action, Fantasy, Magic, Sci-Fi, Shounen      NaN  Unknown     NaN   \n",
       "11105                  School, Shounen, Sports      ONA  Unknown     NaN   \n",
       "12252             Drama, Romance, School, Yuri      NaN  Unknown     NaN   \n",
       "12259                                     Yaoi      NaN  Unknown     NaN   \n",
       "\n",
       "       members  \n",
       "1021      5400  \n",
       "1928      4799  \n",
       "2368      1072  \n",
       "5655       242  \n",
       "5995       466  \n",
       "...        ...  \n",
       "11070     1797  \n",
       "11101     2341  \n",
       "11105      381  \n",
       "12252     2459  \n",
       "12259     1574  \n",
       "\n",
       "[77 rows x 7 columns]"
      ]
     },
     "execution_count": 13,
     "metadata": {},
     "output_type": "execute_result"
    }
   ],
   "source": [
    "data[data['episodes'] == 'Unknown']"
   ]
  },
  {
   "cell_type": "code",
   "execution_count": 14,
   "metadata": {
    "colab": {
     "base_uri": "https://localhost:8080/",
     "height": 49
    },
    "id": "u-UqnMxHlpd4",
    "outputId": "35bf2f98-4ae3-4687-9fd2-f7e4ee7246d6"
   },
   "outputs": [
    {
     "data": {
      "text/html": [
       "<div>\n",
       "<style scoped>\n",
       "    .dataframe tbody tr th:only-of-type {\n",
       "        vertical-align: middle;\n",
       "    }\n",
       "\n",
       "    .dataframe tbody tr th {\n",
       "        vertical-align: top;\n",
       "    }\n",
       "\n",
       "    .dataframe thead th {\n",
       "        text-align: right;\n",
       "    }\n",
       "</style>\n",
       "<table border=\"1\" class=\"dataframe\">\n",
       "  <thead>\n",
       "    <tr style=\"text-align: right;\">\n",
       "      <th></th>\n",
       "      <th>anime_id</th>\n",
       "      <th>name</th>\n",
       "      <th>genre</th>\n",
       "      <th>type</th>\n",
       "      <th>episodes</th>\n",
       "      <th>rating</th>\n",
       "      <th>members</th>\n",
       "    </tr>\n",
       "  </thead>\n",
       "  <tbody>\n",
       "  </tbody>\n",
       "</table>\n",
       "</div>"
      ],
      "text/plain": [
       "Empty DataFrame\n",
       "Columns: [anime_id, name, genre, type, episodes, rating, members]\n",
       "Index: []"
      ]
     },
     "execution_count": 14,
     "metadata": {},
     "output_type": "execute_result"
    }
   ],
   "source": [
    "data['episodes'] = data['episodes'].apply(lambda x:np.nan if x==\"Unknown\" else x)\n",
    "data[data['episodes'] == 'Unknown']\n",
    "#data"
   ]
  },
  {
   "cell_type": "code",
   "execution_count": 15,
   "metadata": {
    "colab": {
     "base_uri": "https://localhost:8080/"
    },
    "id": "iSfy94SClq0d",
    "outputId": "b755ed3f-b57c-42c1-a3da-f9fe5988c176"
   },
   "outputs": [
    {
     "data": {
      "text/plain": [
       "anime_id      0\n",
       "name          0\n",
       "genre        62\n",
       "type         25\n",
       "episodes     77\n",
       "rating      230\n",
       "members       0\n",
       "dtype: int64"
      ]
     },
     "execution_count": 15,
     "metadata": {},
     "output_type": "execute_result"
    }
   ],
   "source": [
    "data.isna().sum()"
   ]
  },
  {
   "cell_type": "code",
   "execution_count": 16,
   "metadata": {
    "id": "V20-AD55ltM2"
   },
   "outputs": [],
   "source": [
    "data['episodes'].fillna(data['episodes'].median(),inplace=True)"
   ]
  },
  {
   "cell_type": "code",
   "execution_count": null,
   "metadata": {
    "id": "3AtwNBmdp8Eb"
   },
   "outputs": [],
   "source": []
  },
  {
   "cell_type": "code",
   "execution_count": 17,
   "metadata": {
    "colab": {
     "base_uri": "https://localhost:8080/"
    },
    "id": "Grw-7_V3lvcy",
    "outputId": "b67f544e-96f5-4ae8-e09b-b95b982b9acf"
   },
   "outputs": [
    {
     "data": {
      "text/plain": [
       "anime_id      0\n",
       "name          0\n",
       "genre        62\n",
       "type         25\n",
       "episodes      0\n",
       "rating      230\n",
       "members       0\n",
       "dtype: int64"
      ]
     },
     "execution_count": 17,
     "metadata": {},
     "output_type": "execute_result"
    }
   ],
   "source": [
    "data.isna().sum()"
   ]
  },
  {
   "cell_type": "code",
   "execution_count": 18,
   "metadata": {
    "id": "80WtC4SKlxoW"
   },
   "outputs": [],
   "source": [
    "data['rating'].fillna(data['rating'].mean(),inplace=True)"
   ]
  },
  {
   "cell_type": "code",
   "execution_count": 19,
   "metadata": {
    "colab": {
     "base_uri": "https://localhost:8080/"
    },
    "id": "6u_LvVtNl0FN",
    "outputId": "c5ff4939-b3e9-41c7-f45f-cfa370fb2326"
   },
   "outputs": [
    {
     "data": {
      "text/plain": [
       "anime_id     0\n",
       "name         0\n",
       "genre       62\n",
       "type        25\n",
       "episodes     0\n",
       "rating       0\n",
       "members      0\n",
       "dtype: int64"
      ]
     },
     "execution_count": 19,
     "metadata": {},
     "output_type": "execute_result"
    }
   ],
   "source": [
    "data.isna().sum()"
   ]
  },
  {
   "cell_type": "markdown",
   "metadata": {},
   "source": [
    "### Type"
   ]
  },
  {
   "cell_type": "code",
   "execution_count": 20,
   "metadata": {
    "colab": {
     "base_uri": "https://localhost:8080/",
     "height": 204
    },
    "id": "faLHQ95el1K4",
    "outputId": "8e77c466-5576-4c6e-a744-4c2995f6129f"
   },
   "outputs": [
    {
     "data": {
      "text/html": [
       "<div>\n",
       "<style scoped>\n",
       "    .dataframe tbody tr th:only-of-type {\n",
       "        vertical-align: middle;\n",
       "    }\n",
       "\n",
       "    .dataframe tbody tr th {\n",
       "        vertical-align: top;\n",
       "    }\n",
       "\n",
       "    .dataframe thead th {\n",
       "        text-align: right;\n",
       "    }\n",
       "</style>\n",
       "<table border=\"1\" class=\"dataframe\">\n",
       "  <thead>\n",
       "    <tr style=\"text-align: right;\">\n",
       "      <th></th>\n",
       "      <th>type_Movie</th>\n",
       "      <th>type_Music</th>\n",
       "      <th>type_ONA</th>\n",
       "      <th>type_OVA</th>\n",
       "      <th>type_Special</th>\n",
       "      <th>type_TV</th>\n",
       "    </tr>\n",
       "  </thead>\n",
       "  <tbody>\n",
       "    <tr>\n",
       "      <th>0</th>\n",
       "      <td>1</td>\n",
       "      <td>0</td>\n",
       "      <td>0</td>\n",
       "      <td>0</td>\n",
       "      <td>0</td>\n",
       "      <td>0</td>\n",
       "    </tr>\n",
       "    <tr>\n",
       "      <th>1</th>\n",
       "      <td>0</td>\n",
       "      <td>0</td>\n",
       "      <td>0</td>\n",
       "      <td>0</td>\n",
       "      <td>0</td>\n",
       "      <td>1</td>\n",
       "    </tr>\n",
       "    <tr>\n",
       "      <th>2</th>\n",
       "      <td>0</td>\n",
       "      <td>0</td>\n",
       "      <td>0</td>\n",
       "      <td>0</td>\n",
       "      <td>0</td>\n",
       "      <td>1</td>\n",
       "    </tr>\n",
       "    <tr>\n",
       "      <th>3</th>\n",
       "      <td>0</td>\n",
       "      <td>0</td>\n",
       "      <td>0</td>\n",
       "      <td>0</td>\n",
       "      <td>0</td>\n",
       "      <td>1</td>\n",
       "    </tr>\n",
       "    <tr>\n",
       "      <th>4</th>\n",
       "      <td>0</td>\n",
       "      <td>0</td>\n",
       "      <td>0</td>\n",
       "      <td>0</td>\n",
       "      <td>0</td>\n",
       "      <td>1</td>\n",
       "    </tr>\n",
       "  </tbody>\n",
       "</table>\n",
       "</div>"
      ],
      "text/plain": [
       "   type_Movie  type_Music  type_ONA  type_OVA  type_Special  type_TV\n",
       "0           1           0         0         0             0        0\n",
       "1           0           0         0         0             0        1\n",
       "2           0           0         0         0             0        1\n",
       "3           0           0         0         0             0        1\n",
       "4           0           0         0         0             0        1"
      ]
     },
     "execution_count": 20,
     "metadata": {},
     "output_type": "execute_result"
    }
   ],
   "source": [
    "pd.get_dummies(data[['type']]).head()"
   ]
  },
  {
   "cell_type": "code",
   "execution_count": 21,
   "metadata": {
    "colab": {
     "base_uri": "https://localhost:8080/"
    },
    "id": "Z5Kt4mUbl2uM",
    "outputId": "589dc263-fc81-44a9-8612-cfbffeadf715"
   },
   "outputs": [
    {
     "data": {
      "text/plain": [
       "anime_id      int64\n",
       "name         object\n",
       "genre        object\n",
       "type         object\n",
       "episodes     object\n",
       "rating      float64\n",
       "members       int64\n",
       "dtype: object"
      ]
     },
     "execution_count": 21,
     "metadata": {},
     "output_type": "execute_result"
    }
   ],
   "source": [
    "data.dtypes"
   ]
  },
  {
   "cell_type": "code",
   "execution_count": 22,
   "metadata": {
    "id": "JNSuUZw9l4kD"
   },
   "outputs": [],
   "source": [
    "data['members'] = data['members'].astype(float)"
   ]
  },
  {
   "cell_type": "code",
   "execution_count": 23,
   "metadata": {
    "colab": {
     "base_uri": "https://localhost:8080/"
    },
    "id": "CKnXYxQll508",
    "outputId": "0dc86be5-df05-4669-bde4-cce46e33d2be"
   },
   "outputs": [
    {
     "data": {
      "text/plain": [
       "anime_id      int64\n",
       "name         object\n",
       "genre        object\n",
       "type         object\n",
       "episodes     object\n",
       "rating      float64\n",
       "members     float64\n",
       "dtype: object"
      ]
     },
     "execution_count": 23,
     "metadata": {},
     "output_type": "execute_result"
    }
   ],
   "source": [
    "data.dtypes"
   ]
  },
  {
   "cell_type": "code",
   "execution_count": 24,
   "metadata": {
    "colab": {
     "base_uri": "https://localhost:8080/",
     "height": 287
    },
    "id": "GxJqM98dl67v",
    "outputId": "23230950-815c-40d2-9fb8-d02aa6ca3c13"
   },
   "outputs": [
    {
     "data": {
      "text/html": [
       "<div>\n",
       "<style scoped>\n",
       "    .dataframe tbody tr th:only-of-type {\n",
       "        vertical-align: middle;\n",
       "    }\n",
       "\n",
       "    .dataframe tbody tr th {\n",
       "        vertical-align: top;\n",
       "    }\n",
       "\n",
       "    .dataframe thead th {\n",
       "        text-align: right;\n",
       "    }\n",
       "</style>\n",
       "<table border=\"1\" class=\"dataframe\">\n",
       "  <thead>\n",
       "    <tr style=\"text-align: right;\">\n",
       "      <th></th>\n",
       "      <th>Adventure</th>\n",
       "      <th>Cars</th>\n",
       "      <th>Comedy</th>\n",
       "      <th>Dementia</th>\n",
       "      <th>Demons</th>\n",
       "      <th>Drama</th>\n",
       "      <th>Ecchi</th>\n",
       "      <th>Fantasy</th>\n",
       "      <th>Game</th>\n",
       "      <th>Harem</th>\n",
       "      <th>...</th>\n",
       "      <th>Yaoi</th>\n",
       "      <th>type_Movie</th>\n",
       "      <th>type_Music</th>\n",
       "      <th>type_ONA</th>\n",
       "      <th>type_OVA</th>\n",
       "      <th>type_Special</th>\n",
       "      <th>type_TV</th>\n",
       "      <th>rating</th>\n",
       "      <th>members</th>\n",
       "      <th>episodes</th>\n",
       "    </tr>\n",
       "  </thead>\n",
       "  <tbody>\n",
       "    <tr>\n",
       "      <th>0</th>\n",
       "      <td>0</td>\n",
       "      <td>0</td>\n",
       "      <td>0</td>\n",
       "      <td>0</td>\n",
       "      <td>0</td>\n",
       "      <td>0</td>\n",
       "      <td>0</td>\n",
       "      <td>0</td>\n",
       "      <td>0</td>\n",
       "      <td>0</td>\n",
       "      <td>...</td>\n",
       "      <td>0</td>\n",
       "      <td>1</td>\n",
       "      <td>0</td>\n",
       "      <td>0</td>\n",
       "      <td>0</td>\n",
       "      <td>0</td>\n",
       "      <td>0</td>\n",
       "      <td>9.37</td>\n",
       "      <td>200630.0</td>\n",
       "      <td>1</td>\n",
       "    </tr>\n",
       "    <tr>\n",
       "      <th>1</th>\n",
       "      <td>1</td>\n",
       "      <td>0</td>\n",
       "      <td>0</td>\n",
       "      <td>0</td>\n",
       "      <td>0</td>\n",
       "      <td>1</td>\n",
       "      <td>0</td>\n",
       "      <td>1</td>\n",
       "      <td>0</td>\n",
       "      <td>0</td>\n",
       "      <td>...</td>\n",
       "      <td>0</td>\n",
       "      <td>0</td>\n",
       "      <td>0</td>\n",
       "      <td>0</td>\n",
       "      <td>0</td>\n",
       "      <td>0</td>\n",
       "      <td>1</td>\n",
       "      <td>9.26</td>\n",
       "      <td>793665.0</td>\n",
       "      <td>64</td>\n",
       "    </tr>\n",
       "    <tr>\n",
       "      <th>2</th>\n",
       "      <td>0</td>\n",
       "      <td>0</td>\n",
       "      <td>1</td>\n",
       "      <td>0</td>\n",
       "      <td>0</td>\n",
       "      <td>0</td>\n",
       "      <td>0</td>\n",
       "      <td>0</td>\n",
       "      <td>0</td>\n",
       "      <td>0</td>\n",
       "      <td>...</td>\n",
       "      <td>0</td>\n",
       "      <td>0</td>\n",
       "      <td>0</td>\n",
       "      <td>0</td>\n",
       "      <td>0</td>\n",
       "      <td>0</td>\n",
       "      <td>1</td>\n",
       "      <td>9.25</td>\n",
       "      <td>114262.0</td>\n",
       "      <td>51</td>\n",
       "    </tr>\n",
       "    <tr>\n",
       "      <th>3</th>\n",
       "      <td>0</td>\n",
       "      <td>0</td>\n",
       "      <td>0</td>\n",
       "      <td>0</td>\n",
       "      <td>0</td>\n",
       "      <td>0</td>\n",
       "      <td>0</td>\n",
       "      <td>0</td>\n",
       "      <td>0</td>\n",
       "      <td>0</td>\n",
       "      <td>...</td>\n",
       "      <td>0</td>\n",
       "      <td>0</td>\n",
       "      <td>0</td>\n",
       "      <td>0</td>\n",
       "      <td>0</td>\n",
       "      <td>0</td>\n",
       "      <td>1</td>\n",
       "      <td>9.17</td>\n",
       "      <td>673572.0</td>\n",
       "      <td>24</td>\n",
       "    </tr>\n",
       "    <tr>\n",
       "      <th>4</th>\n",
       "      <td>0</td>\n",
       "      <td>0</td>\n",
       "      <td>1</td>\n",
       "      <td>0</td>\n",
       "      <td>0</td>\n",
       "      <td>0</td>\n",
       "      <td>0</td>\n",
       "      <td>0</td>\n",
       "      <td>0</td>\n",
       "      <td>0</td>\n",
       "      <td>...</td>\n",
       "      <td>0</td>\n",
       "      <td>0</td>\n",
       "      <td>0</td>\n",
       "      <td>0</td>\n",
       "      <td>0</td>\n",
       "      <td>0</td>\n",
       "      <td>1</td>\n",
       "      <td>9.16</td>\n",
       "      <td>151266.0</td>\n",
       "      <td>51</td>\n",
       "    </tr>\n",
       "  </tbody>\n",
       "</table>\n",
       "<p>5 rows × 91 columns</p>\n",
       "</div>"
      ],
      "text/plain": [
       "    Adventure   Cars   Comedy   Dementia   Demons   Drama   Ecchi   Fantasy  \\\n",
       "0           0      0        0          0        0       0       0         0   \n",
       "1           1      0        0          0        0       1       0         1   \n",
       "2           0      0        1          0        0       0       0         0   \n",
       "3           0      0        0          0        0       0       0         0   \n",
       "4           0      0        1          0        0       0       0         0   \n",
       "\n",
       "    Game   Harem  ...  Yaoi  type_Movie  type_Music  type_ONA  type_OVA  \\\n",
       "0      0       0  ...     0           1           0         0         0   \n",
       "1      0       0  ...     0           0           0         0         0   \n",
       "2      0       0  ...     0           0           0         0         0   \n",
       "3      0       0  ...     0           0           0         0         0   \n",
       "4      0       0  ...     0           0           0         0         0   \n",
       "\n",
       "   type_Special  type_TV  rating   members  episodes  \n",
       "0             0        0    9.37  200630.0         1  \n",
       "1             0        1    9.26  793665.0        64  \n",
       "2             0        1    9.25  114262.0        51  \n",
       "3             0        1    9.17  673572.0        24  \n",
       "4             0        1    9.16  151266.0        51  \n",
       "\n",
       "[5 rows x 91 columns]"
      ]
     },
     "execution_count": 24,
     "metadata": {},
     "output_type": "execute_result"
    }
   ],
   "source": [
    "# Scaling\n",
    "\n",
    "anime_features = pd.concat([data[\"genre\"].str.get_dummies(sep=\",\"),\n",
    "                            pd.get_dummies(data[[\"type\"]]),\n",
    "                            data[[\"rating\"]],data[[\"members\"]],data[\"episodes\"]],axis=1)\n",
    "data[\"name\"] = data[\"name\"].map(lambda name:re.sub('[^A-Za-z0-9]+', \" \", name))\n",
    "anime_features.head()"
   ]
  },
  {
   "cell_type": "code",
   "execution_count": 43,
   "metadata": {},
   "outputs": [
    {
     "data": {
      "text/plain": [
       "0                                           Kimi no Na wa \n",
       "1                          Fullmetal Alchemist Brotherhood\n",
       "2                                                 Gintama \n",
       "3                                              Steins Gate\n",
       "4                                             Gintama 039 \n",
       "                               ...                        \n",
       "12289          Toushindai My Lover Minami tai Mecha Minami\n",
       "12290                                          Under World\n",
       "12291                       Violence Gekiga David no Hoshi\n",
       "12292    Violence Gekiga Shin David no Hoshi Inma Densetsu\n",
       "12293                       Yasuji no Pornorama Yacchimae \n",
       "Name: name, Length: 12294, dtype: object"
      ]
     },
     "execution_count": 43,
     "metadata": {},
     "output_type": "execute_result"
    }
   ],
   "source": [
    "data[\"name\"]"
   ]
  },
  {
   "cell_type": "markdown",
   "metadata": {},
   "source": [
    "## Fitting KNN Model"
   ]
  },
  {
   "cell_type": "code",
   "execution_count": 25,
   "metadata": {
    "id": "r3RHQsEel8KF"
   },
   "outputs": [],
   "source": [
    "from sklearn.preprocessing import MinMaxScaler"
   ]
  },
  {
   "cell_type": "code",
   "execution_count": 26,
   "metadata": {
    "id": "9jrKQ2gWl9oB"
   },
   "outputs": [],
   "source": [
    "mms = MinMaxScaler()"
   ]
  },
  {
   "cell_type": "code",
   "execution_count": 27,
   "metadata": {
    "id": "yFqShP9-l_DD"
   },
   "outputs": [],
   "source": [
    "anime_features = mms.fit_transform(anime_features)"
   ]
  },
  {
   "cell_type": "code",
   "execution_count": 28,
   "metadata": {
    "colab": {
     "base_uri": "https://localhost:8080/"
    },
    "id": "MxUA89qdmAgH",
    "outputId": "15cd47ff-877f-490c-9657-acb77dc9f963"
   },
   "outputs": [
    {
     "data": {
      "text/plain": [
       "array([[0.  , 0.  , 0.  , ..., 0.92, 0.2 , 0.  ],\n",
       "       [1.  , 0.  , 0.  , ..., 0.91, 0.78, 0.03],\n",
       "       [0.  , 0.  , 1.  , ..., 0.91, 0.11, 0.03],\n",
       "       ...,\n",
       "       [0.  , 0.  , 0.  , ..., 0.39, 0.  , 0.  ],\n",
       "       [0.  , 0.  , 0.  , ..., 0.4 , 0.  , 0.  ],\n",
       "       [0.  , 0.  , 0.  , ..., 0.45, 0.  , 0.  ]])"
      ]
     },
     "execution_count": 28,
     "metadata": {},
     "output_type": "execute_result"
    }
   ],
   "source": [
    "np.round(anime_features,2)"
   ]
  },
  {
   "cell_type": "markdown",
   "metadata": {},
   "source": [
    "## Fit nearest neighbour to data"
   ]
  },
  {
   "cell_type": "code",
   "execution_count": 29,
   "metadata": {
    "id": "cCIv9LrjmBy8"
   },
   "outputs": [],
   "source": [
    "from sklearn.neighbors import NearestNeighbors"
   ]
  },
  {
   "cell_type": "code",
   "execution_count": 58,
   "metadata": {
    "id": "sp3eWgSrmD4A"
   },
   "outputs": [],
   "source": [
    "knn = NearestNeighbors(n_neighbors=6,algorithm='ball_tree').fit(anime_features)"
   ]
  },
  {
   "cell_type": "code",
   "execution_count": 59,
   "metadata": {
    "id": "pDXVTLeImFPU"
   },
   "outputs": [],
   "source": [
    "distances, indices = knn.kneighbors(anime_features)"
   ]
  },
  {
   "cell_type": "code",
   "execution_count": 60,
   "metadata": {
    "colab": {
     "base_uri": "https://localhost:8080/"
    },
    "id": "GLIc7m6BmG2Z",
    "outputId": "2c88f9c8-4d3d-410c-95a8-0bfed03d9cd9"
   },
   "outputs": [
    {
     "data": {
      "text/plain": [
       "array([[    0,   208,  1494,  1959,    60,   894],\n",
       "       [    1,   200,   268,   101,   795,   290],\n",
       "       [    2,     4,     9,    12, 10896,     8],\n",
       "       ...,\n",
       "       [12291, 12238, 12237, 12236, 12256, 12235],\n",
       "       [12292, 12231, 12232, 12230, 12229, 12283],\n",
       "       [12293,  7426,  8279,  7349,  7335,  7498]])"
      ]
     },
     "execution_count": 60,
     "metadata": {},
     "output_type": "execute_result"
    }
   ],
   "source": [
    "indices"
   ]
  },
  {
   "cell_type": "code",
   "execution_count": 61,
   "metadata": {
    "colab": {
     "base_uri": "https://localhost:8080/"
    },
    "id": "oFFNLRjjmH81",
    "outputId": "b097e706-52de-4253-9657-e71601d5ca19"
   },
   "outputs": [
    {
     "data": {
      "text/plain": [
       "array([[0.00000000e+00, 1.01745852e+00, 1.03825229e+00, 1.03937903e+00,\n",
       "        1.41715701e+00, 1.43686564e+00],\n",
       "       [0.00000000e+00, 1.02413628e+00, 1.49532476e+00, 1.51709788e+00,\n",
       "        1.56764563e+00, 1.58773614e+00],\n",
       "       [0.00000000e+00, 3.80619318e-02, 4.22966942e-02, 2.35458532e-01,\n",
       "        3.48886921e-01, 1.41519443e+00],\n",
       "       ...,\n",
       "       [0.00000000e+00, 1.66526983e-03, 1.68342197e-03, 6.10251645e-03,\n",
       "        7.38983683e-03, 7.39065502e-03],\n",
       "       [0.00000000e+00, 1.20193784e-03, 1.28937218e-03, 2.40126848e-03,\n",
       "        2.42265612e-03, 3.60197655e-03],\n",
       "       [0.00000000e+00, 1.00000289e+00, 1.00002594e+00, 1.00002597e+00,\n",
       "        1.00003531e+00, 1.00005836e+00]])"
      ]
     },
     "execution_count": 61,
     "metadata": {},
     "output_type": "execute_result"
    }
   ],
   "source": [
    "distances"
   ]
  },
  {
   "cell_type": "code",
   "execution_count": 62,
   "metadata": {
    "colab": {
     "base_uri": "https://localhost:8080/"
    },
    "id": "AisOubM3mPsP",
    "outputId": "e55bec93-2b4e-48f3-c2fa-86d33ca7c526"
   },
   "outputs": [
    {
     "data": {
      "text/plain": [
       "(12294, 91)"
      ]
     },
     "execution_count": 62,
     "metadata": {},
     "output_type": "execute_result"
    }
   ],
   "source": [
    "anime_features.shape"
   ]
  },
  {
   "cell_type": "markdown",
   "metadata": {},
   "source": [
    "### Helper functions"
   ]
  },
  {
   "cell_type": "code",
   "execution_count": 63,
   "metadata": {
    "id": "nvn6H16wmS7C"
   },
   "outputs": [],
   "source": [
    "#--Returns index of anime if given full name--#\n",
    "def get_index_from_name(name):\n",
    "    return data[data['name']==name].index.tolist()[0]"
   ]
  },
  {
   "cell_type": "code",
   "execution_count": 64,
   "metadata": {
    "colab": {
     "base_uri": "https://localhost:8080/"
    },
    "id": "ViAiYS4UmXbq",
    "outputId": "94a58228-dd60-47a5-a9cb-59a2f508d577"
   },
   "outputs": [
    {
     "data": {
      "text/plain": [
       "['Kimi no Na wa ',\n",
       " 'Fullmetal Alchemist Brotherhood',\n",
       " 'Gintama ',\n",
       " 'Steins Gate',\n",
       " 'Gintama 039 ',\n",
       " 'Haikyuu Karasuno Koukou VS Shiratorizawa Gakuen Koukou',\n",
       " 'Hunter x Hunter 2011 ',\n",
       " 'Ginga Eiyuu Densetsu',\n",
       " 'Gintama Movie Kanketsu hen Yorozuya yo Eien Nare',\n",
       " 'Gintama 039 Enchousen',\n",
       " 'Clannad After Story',\n",
       " 'Koe no Katachi',\n",
       " 'Gintama',\n",
       " 'Code Geass Hangyaku no Lelouch R2',\n",
       " 'Haikyuu Second Season',\n",
       " 'Sen to Chihiro no Kamikakushi',\n",
       " 'Shigatsu wa Kimi no Uso',\n",
       " 'Mushishi Zoku Shou 2nd Season',\n",
       " 'Ookami Kodomo no Ame to Yuki',\n",
       " 'Code Geass Hangyaku no Lelouch',\n",
       " 'Hajime no Ippo',\n",
       " 'Rurouni Kenshin Meiji Kenkaku Romantan Tsuioku hen',\n",
       " 'Cowboy Bebop',\n",
       " 'One Punch Man',\n",
       " 'Mononoke Hime',\n",
       " 'Suzumiya Haruhi no Shoushitsu',\n",
       " 'Monogatari Series Second Season',\n",
       " 'Mushishi Zoku Shou',\n",
       " 'Mushishi',\n",
       " 'Tengen Toppa Gurren Lagann',\n",
       " 'Great Teacher Onizuka',\n",
       " 'Natsume Yuujinchou Go',\n",
       " 'Hajime no Ippo New Challenger',\n",
       " 'Mushishi Zoku Shou Suzu no Shizuku',\n",
       " 'Natsume Yuujinchou Shi',\n",
       " 'Howl no Ugoku Shiro',\n",
       " 'Fate Zero 2nd Season',\n",
       " 'Kizumonogatari II Nekketsu hen',\n",
       " 'Monster',\n",
       " 'Bakuman 3rd Season',\n",
       " 'Death Note',\n",
       " 'Gintama Aizome Kaori hen',\n",
       " 'Ansatsu Kyoushitsu TV 2nd Season',\n",
       " 'Haikyuu ',\n",
       " 'Hajime no Ippo Rising',\n",
       " 'Kara no Kyoukai 5 Mujun Rasen',\n",
       " 'Natsume Yuujinchou San',\n",
       " 'Ping Pong The Animation',\n",
       " 'Mushishi Special Hihamukage',\n",
       " 'Boku dake ga Inai Machi',\n",
       " 'Yojouhan Shinwa Taikei',\n",
       " 'Aria The Origination',\n",
       " 'Kamisama Hajimemashita Kako hen',\n",
       " 'Rainbow Nisha Rokubou no Shichinin',\n",
       " 'Re Zero kara Hajimeru Isekai Seikatsu',\n",
       " 'Tengen Toppa Gurren Lagann Movie Lagann hen',\n",
       " 'Zoku Natsume Yuujinchou',\n",
       " 'Ano Hi Mita Hana no Namae wo Bokutachi wa Mada Shiranai ',\n",
       " 'Kuroko no Basket 3rd Season',\n",
       " 'Steins Gate Movie Fuka Ryouiki no D j vu',\n",
       " 'Hotarubi no Mori e',\n",
       " 'Shokugeki no Souma',\n",
       " 'Yuri on Ice',\n",
       " 'Gintama Yorinuki Gintama san on Theater 2D',\n",
       " 'JoJo no Kimyou na Bouken Stardust Crusaders 2nd Season',\n",
       " 'Gintama Movie Shinyaku Benizakura hen',\n",
       " 'Hellsing Ultimate',\n",
       " 'Kiseijuu Sei no Kakuritsu',\n",
       " 'Shouwa Genroku Rakugo Shinjuu',\n",
       " 'Uchuu Kyoudai',\n",
       " 'Bakemono no Ko',\n",
       " 'Hotaru no Haka',\n",
       " 'Kuroko no Basket 2nd Season',\n",
       " 'Major S5',\n",
       " 'One Piece',\n",
       " 'Ghost in the Shell Stand Alone Complex 2nd GIG',\n",
       " 'JoJo no Kimyou na Bouken Diamond wa Kudakenai',\n",
       " 'Kara no Kyoukai 7 Satsujin Kousatsu Kou ',\n",
       " 'Kingdom 2nd Season',\n",
       " 'Slam Dunk',\n",
       " 'Usagi Drop',\n",
       " 'Girls und Panzer der Film',\n",
       " 'Mob Psycho 100',\n",
       " 'Nana',\n",
       " 'Baccano ',\n",
       " 'Mushishi Zoku Shou Odoro no Michi',\n",
       " 'Shingeki no Kyojin',\n",
       " 'Bakuman 2nd Season',\n",
       " 'Cross Game',\n",
       " 'Doukyuusei Movie ',\n",
       " 'Evangelion 2 0 You Can Not Advance',\n",
       " 'Shinsekai yori',\n",
       " 'Uchuu Senkan Yamato 2199',\n",
       " 'Chihayafuru 2',\n",
       " 'Fate Zero',\n",
       " 'JoJo no Kimyou na Bouken TV ',\n",
       " 'Mahou Shoujo Madoka Magica',\n",
       " 'Nichijou',\n",
       " 'Psycho Pass',\n",
       " 'Barakamon',\n",
       " 'Diamond no Ace Second Season',\n",
       " 'Magi The Kingdom of Magic',\n",
       " 'Mahou Shoujo Madoka Magica Movie 3 Hangyaku no Monogatari',\n",
       " 'Major World Series',\n",
       " 'Samurai Champloo',\n",
       " 'Shokugeki no Souma Ni no Sara',\n",
       " 'Katanagatari',\n",
       " 'Mahou Shoujo Madoka Magica Movie 2 Eien no Monogatari',\n",
       " 'Major S6',\n",
       " 'Mononoke',\n",
       " 'Shirobako',\n",
       " 'Ashita no Joe 2',\n",
       " 'Hunter x Hunter',\n",
       " 'Noragami Aragoto',\n",
       " 'Sakamichi no Apollon',\n",
       " 'Tonari no Totoro',\n",
       " 'Ghost in the Shell Stand Alone Complex',\n",
       " 'Kaze no Tani no Nausica ',\n",
       " 'No Game No Life',\n",
       " 'Romeo no Aoi Sora',\n",
       " 'Yuu Yuu Hakusho',\n",
       " 'Kino no Tabi The Beautiful World',\n",
       " 'Kuroko no Basket',\n",
       " 'Nodame Cantabile',\n",
       " 'Ookami to Koushinryou II',\n",
       " 'Shingeki no Kyojin Kuinaki Sentaku',\n",
       " 'Steins Gate Oukoubakko no Poriomania',\n",
       " 'Fate stay night Unlimited Blade Works 2nd Season',\n",
       " 'Kemono no Souja Erin',\n",
       " 'Kizumonogatari I Tekketsu hen',\n",
       " 'Neon Genesis Evangelion The End of Evangelion',\n",
       " 'Toradora ',\n",
       " 'Toki wo Kakeru Shoujo',\n",
       " 'Tsubasa Tokyo Revelations',\n",
       " 'Owarimonogatari',\n",
       " 'Rurouni Kenshin Meiji Kenkaku Romantan',\n",
       " 'Stranger Mukou Hadan',\n",
       " 'Detective Conan Movie 06 The Phantom of Baker Street',\n",
       " 'Fate stay night Unlimited Blade Works',\n",
       " 'Major S1',\n",
       " 'Mobile Suit Gundam The Origin',\n",
       " 'Nanatsu no Taizai',\n",
       " 'Natsume Yuujinchou',\n",
       " 'One Piece Film Strong World',\n",
       " 'Higurashi no Naku Koro ni Kai',\n",
       " 'Hunter x Hunter OVA',\n",
       " 'Hunter x Hunter Greed Island Final',\n",
       " 'Kuroshitsuji Book of Murder',\n",
       " 'Major S2',\n",
       " 'One Outs',\n",
       " 'Beck',\n",
       " 'Berserk',\n",
       " 'Cowboy Bebop Tengoku no Tobira',\n",
       " 'Major S3',\n",
       " 'Mobile Suit Gundam Unicorn',\n",
       " 'Natsume Yuujinchou Itsuka Yuki no Hi ni',\n",
       " 'NHK ni Youkoso ',\n",
       " 'Rose of Versailles',\n",
       " 'Sakurasou no Pet na Kanojo',\n",
       " 'Angel Beats ',\n",
       " 'Bakemonogatari',\n",
       " 'Bungou Stray Dogs 2nd Season',\n",
       " 'Hajime no Ippo Champion Road',\n",
       " 'One Piece Film Z',\n",
       " 'Ouran Koukou Host Club',\n",
       " 'Detective Conan Movie 13 The Raven Chaser',\n",
       " 'Durarara ',\n",
       " 'Nodame Cantabile Finale',\n",
       " 'Planetes',\n",
       " 'Shelter',\n",
       " 'Tenkuu no Shiro Laputa',\n",
       " 'Gintama Shiroyasha Koutan',\n",
       " 'Hachimitsu to Clover II',\n",
       " 'InuYasha Kanketsu hen',\n",
       " 'Kaguya hime no Monogatari',\n",
       " 'Katekyo Hitman Reborn ',\n",
       " 'Kuroshitsuji Book of Circus',\n",
       " 'Ookami to Koushinryou',\n",
       " 'Boku no Hero Academia',\n",
       " 'Gin no Saji 2nd Season',\n",
       " 'Little Busters Refrain',\n",
       " 'Major Message',\n",
       " 'Saint Seiya The Lost Canvas Meiou Shinwa 2',\n",
       " 'SKET Dance',\n",
       " 'Bakuman ',\n",
       " 'Danshi Koukousei no Nichijou',\n",
       " 'Kotonoha no Niwa',\n",
       " 'Kyoukai no Kanata Movie I 039 ll Be Here Mirai hen',\n",
       " 'Major S4',\n",
       " 'Omoide no Marnie',\n",
       " 'Working Lord of the Takanashi',\n",
       " 'Ghost in the Shell',\n",
       " 'K On Movie',\n",
       " 'Kuroko no Basket Saikou no Present Desu',\n",
       " 'Mahou Shoujo Lyrical Nanoha The Movie 2nd A 039 s',\n",
       " 'Sennen Joyuu',\n",
       " 'Steins Gate Kyoukaimenjou no Missing Link Divide By Zero',\n",
       " 'xxxHOLiC Kei',\n",
       " 'Berserk Ougon Jidai hen III Kourin',\n",
       " 'Death Parade',\n",
       " 'Fullmetal Alchemist',\n",
       " 'Gyakkyou Burai Kaiji Ultimate Survivor',\n",
       " 'Hunter x Hunter Greed Island',\n",
       " 'Redline',\n",
       " 'Chihayafuru',\n",
       " 'Detective Conan Movie 20 The Darkest Nightmare',\n",
       " 'Dragon Ball Z',\n",
       " 'Fate stay night Unlimited Blade Works Prologue',\n",
       " 'Kokoro ga Sakebitagatterunda ',\n",
       " 'Mimi wo Sumaseba',\n",
       " 'Nagi no Asukara',\n",
       " 'Neon Genesis Evangelion',\n",
       " 'One Piece Film Gold',\n",
       " 'Tokyo Godfathers',\n",
       " 'Trigun',\n",
       " 'xxxHOLiC Rou',\n",
       " 'Gintama Shinyaku Benizakura hen',\n",
       " 'Mahou Shoujo Madoka Magica Movie 1 Hajimari no Monogatari',\n",
       " 'Sekaiichi Hatsukoi 2',\n",
       " 'Yahari Ore no Seishun Love Comedy wa Machigatteiru Zoku',\n",
       " 'Yahari Ore no Seishun Love Comedy wa Machigatteiru Zoku OVA',\n",
       " 'Aria The Natural',\n",
       " 'Black Lagoon The Second Barrage',\n",
       " 'Clannad',\n",
       " 'Kami nomi zo Shiru Sekai Megami hen',\n",
       " 'Summer Wars',\n",
       " 'Baccano Specials',\n",
       " 'Detective Conan Movie 14 The Lost Ship in the Sky',\n",
       " 'Gyakkyou Burai Kaiji Hakairoku hen',\n",
       " 'Initial D Final Stage',\n",
       " 'Kaiba',\n",
       " 'One Piece Episode of Merry Mou Hitori no Nakama no Monogatari',\n",
       " 'Saiki Kusuo no nan TV ',\n",
       " 'Cardcaptor Sakura Movie 2 Fuuin Sareta Card',\n",
       " 'Hajime no Ippo Mashiba vs Kimura',\n",
       " 'Kamisama Hajimemashita ',\n",
       " 'Skip Beat ',\n",
       " 'Yowamushi Pedal Grande Road',\n",
       " 'Gankutsuou',\n",
       " 'Majo no Takkyuubin',\n",
       " 'Nodame Cantabile Paris hen',\n",
       " 'One Piece Episode of Nami Koukaishi no Namida to Nakama no Kizuna',\n",
       " 'Osomatsu san',\n",
       " 'Space Dandy 2nd Season',\n",
       " 'Tsumiki no Ie',\n",
       " 'Detroit Metal City',\n",
       " 'Eve no Jikan',\n",
       " 'Eve no Jikan Movie ',\n",
       " 'Kaichou wa Maid sama ',\n",
       " 'Saint Seiya Meiou Hades Juuni Kyuu hen',\n",
       " 'Zankyou no Terror',\n",
       " 'Darker than Black Kuro no Keiyakusha',\n",
       " 'Detective Conan',\n",
       " 'Detective Conan Movie 05 Countdown to Heaven',\n",
       " 'Diamond no Ace',\n",
       " 'Fairy Tail 2014 ',\n",
       " 'Hibike Euphonium 2',\n",
       " 'JoJo no Kimyou na Bouken Stardust Crusaders',\n",
       " 'Maison Ikkoku',\n",
       " 'Non Non Biyori Repeat',\n",
       " 'Shijou Saikyou no Deshi Kenichi',\n",
       " 'Yuusha Ou GaoGaiGar Final',\n",
       " 'Gekkan Shoujo Nozaki kun',\n",
       " 'Initial D Fourth Stage',\n",
       " 'Junjou Romantica 2',\n",
       " 'Kaze Tachinu',\n",
       " 'Kingdom',\n",
       " 'Kuragehime',\n",
       " 'Magi The Labyrinth of Magic',\n",
       " 'Mobile Suit Gundam 00',\n",
       " 'ReLIFE',\n",
       " 'Saint Seiya The Lost Canvas Meiou Shinwa',\n",
       " 'Seirei no Moribito',\n",
       " 'Akatsuki no Yona',\n",
       " 'Detective Conan Movie 08 Magician of the Silver Sky',\n",
       " 'Durarara x2 Ketsu',\n",
       " 'Free Eternal Summer Special',\n",
       " 'Glass no Kamen 2005 ',\n",
       " 'Gosick',\n",
       " 'Hajime no Ippo Boxer no Kobushi',\n",
       " 'Initial D First Stage',\n",
       " 'Kill la Kill',\n",
       " 'Lovely Complex',\n",
       " 'Perfect Blue',\n",
       " 'Princess Tutu',\n",
       " 'Sakasama no Patema',\n",
       " 'Tsubasa Shunraiki',\n",
       " 'Ashita no Joe',\n",
       " 'Fairy Tail',\n",
       " 'Ghost in the Shell Stand Alone Complex Solid State Society',\n",
       " 'Magi Sinbad no Bouken TV ',\n",
       " 'Shoujo Kakumei Utena',\n",
       " 'Tengen Toppa Gurren Lagann Movie Gurren hen',\n",
       " 'Detective Conan Movie 10 Requiem of the Detectives',\n",
       " 'Evangelion 1 0 You Are Not Alone',\n",
       " 'Full Metal Panic Fumoffu',\n",
       " 'Ginga Eiyuu Densetsu Arata Naru Tatakai no Overture',\n",
       " 'Kara no Kyoukai 3 Tsuukaku Zanryuu',\n",
       " 'Mobile Suit Gundam 00 Second Season',\n",
       " 'Nisemonogatari',\n",
       " 'Tsukimonogatari',\n",
       " 'Ansatsu Kyoushitsu TV ',\n",
       " 'Aria The Avvenire',\n",
       " 'Baby Steps 2nd Season',\n",
       " 'D Gray man',\n",
       " 'Ginga Eiyuu Densetsu Gaiden Senoku no Hoshi Senoku no Hikari',\n",
       " 'Gintama Jump Festa 2014 Special',\n",
       " 'Lupin III Cagliostro no Shiro',\n",
       " 'Mobile Suit Gundam Iron Blooded Orphans 2nd Season',\n",
       " 'Ookiku Furikabutte Natsu no Taikai hen',\n",
       " 'Saiunkoku Monogatari 2nd Season',\n",
       " 'Sekaiichi Hatsukoi Movie Yokozawa Takafumi no Baai',\n",
       " 'Ano Hi Mita Hana no Namae wo Bokutachi wa Mada Shiranai Movie',\n",
       " 'Dennou Coil',\n",
       " 'Eureka Seven',\n",
       " 'Ghost in the Shell Stand Alone Complex The Laughing Man',\n",
       " 'Gintama Dai Hanseikai',\n",
       " 'Hidamari Sketch Sae Hiro Sotsugyou hen',\n",
       " 'Hikaru no Go',\n",
       " 'Kimi ni Todoke',\n",
       " 'Kokoro Connect Michi Random',\n",
       " 'Tokyo Magnitude 8 0',\n",
       " 'Cardcaptor Sakura',\n",
       " 'ef A Tale of Melodies ',\n",
       " 'Gin no Saji',\n",
       " 'Hachimitsu to Clover',\n",
       " 'Kodomo no Omocha TV ',\n",
       " 'Love Live The School Idol Movie',\n",
       " 'Mahoutsukai no Yome Hoshi Matsu Hito',\n",
       " 'Sekaiichi Hatsukoi OVA',\n",
       " 'Working ',\n",
       " 'Black Lagoon',\n",
       " 'Detective Conan Movie 18 The Sniper from Another Dimension',\n",
       " 'Final Fantasy VII Advent Children Complete',\n",
       " 'Higurashi no Naku Koro ni',\n",
       " 'Hyouka',\n",
       " 'Interstella5555 The 5tory of The 5ecret 5tar 5ystem',\n",
       " 'Kanon 2006 ',\n",
       " 'Kimi ni Todoke 2nd Season',\n",
       " 'Noragami',\n",
       " 'Persona 3 the Movie 4 Winter of Rebirth',\n",
       " 'xxxHOLiC Shunmuki',\n",
       " 'Zetsuen no Tempest',\n",
       " 'Aria The Origination Sono Choppiri Himitsu no Basho ni ',\n",
       " 'Detective Conan Movie 03 The Last Wizard of the Century',\n",
       " 'Detective Conan Movie 04 Captured in Her Eyes',\n",
       " 'Dragon Ball',\n",
       " 'Hanada Shounen shi',\n",
       " 'Junjou Romantica 3',\n",
       " 'Juuni Kokuki',\n",
       " 'Major Movie Yuujou no Winning Shot',\n",
       " 'Mirai Shounen Conan',\n",
       " 'One Piece Film Strong World Episode 0',\n",
       " 'Phantom Requiem for the Phantom',\n",
       " 'Tamako Love Story',\n",
       " 'Toaru Kagaku no Railgun S',\n",
       " 'Touch',\n",
       " 'Yowamushi Pedal',\n",
       " 'Akira',\n",
       " 'Black Lagoon Roberta 039 s Blood Trail',\n",
       " 'Durarara x2 Shou',\n",
       " 'Gintama Jump Festa 2015 Special',\n",
       " 'High Speed Free Starting Days',\n",
       " 'Kyou kara Ore wa ',\n",
       " 'Nurarihyon no Mago Sennen Makyou',\n",
       " 'Paprika',\n",
       " 'Prince of Tennis The National Tournament Finals',\n",
       " 'School Rumble Ni Gakki',\n",
       " 'Sekaiichi Hatsukoi',\n",
       " 'Akagami no Shirayuki hime 2nd Season',\n",
       " 'Clannad Mou Hitotsu no Sekai Tomoyo hen',\n",
       " 'Ginga Nagareboshi Gin',\n",
       " 'Initial D Fifth Stage',\n",
       " 'K On ',\n",
       " 'Log Horizon',\n",
       " 'Sekaiichi Hatsukoi Valentine hen',\n",
       " 'Slayers Next',\n",
       " 'Aria The OVA Arietta',\n",
       " 'Detective Conan Movie 15 Quarter of Silence',\n",
       " 'Digimon Adventure tri 3 Kokuhaku',\n",
       " 'Gintama Nanigoto mo Saiyo ga Kanjin nano de Tasho Senobisuru Kurai ga Choudoyoi',\n",
       " 'Igano Kabamaru',\n",
       " 'Kamisama Hajimemashita',\n",
       " 'Kara no Kyoukai Mirai Fukuin',\n",
       " 'Mobile Suit Gundam The 08th MS Team',\n",
       " 'Omae Umasou da na',\n",
       " 'Ushio to Tora TV 2nd Season',\n",
       " 'Wolf 039 s Rain OVA',\n",
       " 'Ajin 2nd Season',\n",
       " 'Aoki Hagane no Arpeggio Ars Nova Cadenza',\n",
       " 'City Hunter 2',\n",
       " 'Durarara x2 Ten',\n",
       " 'ef A Tale of Memories ',\n",
       " 'Ghost in the Shell 2 0',\n",
       " 'Ghost in the Shell Stand Alone Complex 2nd GIG Individual Eleven',\n",
       " 'Ginga Sengoku Gunyuuden Rai',\n",
       " 'Initial D Second Stage',\n",
       " 'Kami nomi zo Shiru Sekai II',\n",
       " 'Noragami Aragoto OVA',\n",
       " 'Stand By Me Doraemon',\n",
       " 'Tiger amp Bunny',\n",
       " 'Yahari Ore no Seishun Love Comedy wa Machigatteiru ',\n",
       " 'Fullmetal Alchemist Brotherhood Specials',\n",
       " 'Hanamonogatari',\n",
       " 'Kimi to Boku 2',\n",
       " 'Ookiku Furikabutte',\n",
       " 'Ore Monogatari ',\n",
       " 'Tamayura Sotsugyou Shashin Part 4 Ashita',\n",
       " 'Tekkon Kinkreet',\n",
       " 'There She Is ',\n",
       " 'xxxHOLiC',\n",
       " 'Byousoku 5 Centimeter',\n",
       " 'Danganronpa 3 The End of Kibougamine Gakuen Kibou hen',\n",
       " 'Ginga Eiyuu Densetsu Gaiden Rasen Meikyuu',\n",
       " 'Hyouge Mono',\n",
       " 'Karigurashi no Arrietty',\n",
       " 'Mahou Shoujo Lyrical Nanoha A 039 s',\n",
       " 'Rurouni Kenshin Meiji Kenkaku Romantan Seisou hen',\n",
       " 'Tanaka kun wa Itsumo Kedaruge',\n",
       " 'Berserk Ougon Jidai hen II Doldrey Kouryaku',\n",
       " 'Darker than Black Kuro no Keiyakusha Gaiden',\n",
       " 'Elsword El Lady',\n",
       " 'Ginga Eiyuu Densetsu Waga Yuku wa Hoshi no Taikai',\n",
       " 'Hikaru no Go Journey to the North Star Cup',\n",
       " 'Hybrid Child',\n",
       " 'Isekai no Seikishi Monogatari',\n",
       " 'Junjou Romantica OVA',\n",
       " 'Kobato ',\n",
       " 'Kuuchuu Buranko',\n",
       " 'Macross Do You Remember Love ',\n",
       " 'One Piece 3D2Y Ace no shi wo Koete Luffy Nakama Tono Chikai',\n",
       " 'Prince of Tennis The National Tournament',\n",
       " 'Prince of Tennis The National Tournament Semifinals',\n",
       " 'Eyeshield 21',\n",
       " 'Full Moon wo Sagashite',\n",
       " 'Grisaia no Rakuen',\n",
       " 'Jigoku Shoujo Futakomori',\n",
       " 'Junjou Romantica',\n",
       " 'Mawaru Penguindrum',\n",
       " 'SKET Dance OVA',\n",
       " 'Soul Eater',\n",
       " 'Trigun Badlands Rumble',\n",
       " 'Haibane Renmei',\n",
       " 'Kuroko no Basket Tip Off',\n",
       " 'Macross',\n",
       " 'Mirai Nikki TV ',\n",
       " 'Saiyuuki Reload Burial',\n",
       " 'Tentai Senshi Sunred 2nd Season',\n",
       " 'Terra e TV ',\n",
       " 'Tokyo Ghoul',\n",
       " 'Usagi Drop Specials',\n",
       " 'Yume iro P tissi re',\n",
       " 'Azumanga Daioh',\n",
       " 'Colorful Movie ',\n",
       " 'Detective Conan OVA 09 The Stranger in 10 Years ',\n",
       " 'Drifters Special Edition',\n",
       " 'FLCL',\n",
       " 'Full Metal Panic The Second Raid',\n",
       " 'Kuroshitsuji',\n",
       " 'Love Live School Idol Project 2nd Season',\n",
       " 'Macross F Movie 2 Sayonara no Tsubasa',\n",
       " 'Magi Sinbad no Bouken',\n",
       " 'Nekomonogatari Kuro',\n",
       " 'Saiunkoku Monogatari',\n",
       " 'School Rumble',\n",
       " 'Strike the Blood II',\n",
       " 'Suzumiya Haruhi no Yuuutsu',\n",
       " 'Flanders no Inu Movie ',\n",
       " 'Golden Boy',\n",
       " 'Grisaia no Meikyuu Caprice no Mayu 0',\n",
       " 'Kaleido Star',\n",
       " 'Kara no Kyoukai 4 Garan no Dou',\n",
       " 'Lupin III vs Detective Conan The Movie',\n",
       " 'Non Non Biyori',\n",
       " 'Seitokai Yakuindomo OVA',\n",
       " 'Yakitate Japan',\n",
       " 'Beelzebub',\n",
       " 'Death Billiards',\n",
       " 'Durarara Specials',\n",
       " 'Jormungand Perfect Order',\n",
       " 'Mahou Shoujo Lyrical Nanoha The Movie 1st',\n",
       " 'Overlord',\n",
       " 'Prince of Tennis',\n",
       " 'Takarajima',\n",
       " 'xxxHOLiC Movie Manatsu no Yoru no Yume',\n",
       " 'Yuru Yuri San Hai ',\n",
       " 'Boruto Naruto the Movie',\n",
       " 'Coquelicot zaka kara',\n",
       " 'Eikoku Koi Monogatari Emma Molders hen',\n",
       " 'Ergo Proxy',\n",
       " 'Hanasaku Iroha',\n",
       " 'Hataraku Maou sama ',\n",
       " 'Hibike Euphonium',\n",
       " 'Higashi no Eden',\n",
       " 'Ie Naki Ko Remi',\n",
       " 'Kono Subarashii Sekai ni Shukufuku wo ',\n",
       " 'Kurenai no Buta',\n",
       " 'Mobile Suit Zeta Gundam',\n",
       " 'Prison School',\n",
       " 'Saint Seiya',\n",
       " 'Sayonara Zetsubou Sensei',\n",
       " 'Seto no Hanayome OVA',\n",
       " 'Zoku Sayonara Zetsubou Sensei',\n",
       " 'Akachan to Boku',\n",
       " 'Clannad After Story Mou Hitotsu no Sekai Kyou hen',\n",
       " 'Hakuouki Movie 2 Shikon Soukyuu',\n",
       " 'Kara no Kyoukai 2 Satsujin Kousatsu Zen ',\n",
       " 'Macross F',\n",
       " 'Magic Kaito',\n",
       " 'Sakigake Cromartie Koukou',\n",
       " 'Shijou Saikyou no Deshi Kenichi OVA',\n",
       " 'Touhai Densetsu Akagi Yami ni Maiorita Tensai',\n",
       " 'Carnival Phantasm',\n",
       " 'D Gray man Hallow',\n",
       " 'Date A Live Encore OVA',\n",
       " 'Dragon Ball Kai 2014 ',\n",
       " 'Gochuumon wa Usagi Desu ka ',\n",
       " 'Hidamari Sketch x ',\n",
       " 'Kokoro Connect',\n",
       " 'Saiyuuki Gaiden',\n",
       " 'Shirokuma Cafe',\n",
       " 'Tiger amp Bunny Movie 2 The Rising',\n",
       " 'Zan Sayonara Zetsubou Sensei',\n",
       " 'City Hunter',\n",
       " 'Detective Conan Movie 02 The Fourteenth Target',\n",
       " 'Gekkan Shoujo Nozaki kun Specials',\n",
       " 'Giant Robo the Animation Chikyuu ga Seishi Suru Hi',\n",
       " 'Hetalia The Beautiful World Specials',\n",
       " 'Kaleido Star Legend of Phoenix Layla Hamilton Monogatari',\n",
       " 'Kamisama Hajimemashita OVA',\n",
       " 'Little Witch Academia',\n",
       " 'Maria sama ga Miteru 3rd',\n",
       " 'Mobile Suit Gundam Thunderbolt',\n",
       " 'The Everlasting Guilty Crown',\n",
       " 'Bishoujo Senshi Sailor Moon Sailor Stars',\n",
       " 'Break Blade 4 Sanka no Chi',\n",
       " 'Hanasaku Iroha Home Sweet Home',\n",
       " 'Hidamari Sketch x Honeycomb',\n",
       " 'Hokuto no Ken',\n",
       " 'Les Mis rables Shoujo Cosette',\n",
       " 'Serial Experiments Lain',\n",
       " 'Shiki',\n",
       " 'Ushiro no Shoumen Daare',\n",
       " 'Baka to Test to Shoukanjuu Ni ',\n",
       " 'Detective Conan Movie 01 The Timed Skyscraper',\n",
       " 'Detective Conan Movie 07 Crossroad in the Ancient Capital',\n",
       " 'Gundam Build Fighters',\n",
       " 'Hetalia The Beautiful World',\n",
       " 'Initial D Third Stage',\n",
       " 'Kuroko no Basket 3rd Season NG shuu',\n",
       " 'Neko no Ongaeshi',\n",
       " 'Seihou Bukyou Outlaw Star',\n",
       " 'White Album 2',\n",
       " 'Working 039 ',\n",
       " 'Gate Jieitai Kanochi nite Kaku Tatakaeri',\n",
       " 'Gate Jieitai Kanochi nite Kaku Tatakaeri 2nd Season',\n",
       " 'Ghost Hunt',\n",
       " 'Gungrave',\n",
       " 'Jungle wa Itsumo Hare nochi Guu',\n",
       " 'Kuroko no Basket 2nd Season NG shuu',\n",
       " 'Kyou kara Maou 3rd Series',\n",
       " 'Lupin III 2015 ',\n",
       " 'Madang Eul Naon Amtalg',\n",
       " 'Maria sama ga Miteru 4th',\n",
       " 'Musekinin Kanchou Tylor',\n",
       " 'Ookami to Koushinryou II Ookami to Kohakuiro no Yuuutsu',\n",
       " 'Saint Seiya Meiou Hades Meikai hen',\n",
       " 'Saint Oniisan Movie ',\n",
       " 'Seikai no Senki II',\n",
       " 'Top wo Nerae Gunbuster',\n",
       " 'Toshokan Sensou Kakumei no Tsubasa',\n",
       " 'Uchouten Kazoku',\n",
       " 'Baby Steps',\n",
       " 'Break Blade 5 Shisen no Hate',\n",
       " 'Code Geass Hangyaku no Lelouch R2 Special Edition Zero Requiem',\n",
       " 'Goku Sayonara Zetsubou Sensei',\n",
       " 'Jormungand',\n",
       " 'Kindaichi Shounen no Jikenbo TV ',\n",
       " 'Mobile Suit Gundam Iron Blooded Orphans',\n",
       " 'Shin Mazinger Shougeki Z hen',\n",
       " 'Tentai Senshi Sunred',\n",
       " 'Yuusha Ou GaoGaiGar',\n",
       " 'Bleach',\n",
       " 'Chuunibyou demo Koi ga Shitai ',\n",
       " 'City Hunter 3',\n",
       " 'Danganronpa 3 The End of Kibougamine Gakuen Zetsubou hen',\n",
       " 'Detective Conan Movie 08 Time Travel of the Silver Sky',\n",
       " 'Detective Conan OVA 10 Kid in Trap Island',\n",
       " 'Dragon Ball Kai',\n",
       " 'Hetalia World Series',\n",
       " 'Jungle wa Itsumo Hare nochi Guu Deluxe',\n",
       " 'Kami nomi zo Shiru Sekai',\n",
       " 'Kyousou Giga TV ',\n",
       " 'Magic Kaito 1412',\n",
       " 'Nejimaki Seirei Senki Tenkyou no Alderamin',\n",
       " 'Plastic Memories',\n",
       " 'Psycho Pass Movie',\n",
       " 'Seto no Hanayome',\n",
       " 'Sidonia no Kishi Daikyuu Wakusei Seneki',\n",
       " 'Tanoshii Muumin Ikka',\n",
       " 'Tasogare Otome x Amnesia',\n",
       " 'Vampire Hunter D 2000 ',\n",
       " 'Yuru Yuri Nachuyachumi ',\n",
       " 'Break Blade 3 Kyoujin no Ato',\n",
       " 'Danshi Koukousei no Nichijou Specials',\n",
       " 'Detective Conan Movie 09 Strategy Above the Depths',\n",
       " 'Detective Conan Movie 12 Full Score of Fear',\n",
       " 'Final Fantasy VII Advent Children',\n",
       " 'Free Eternal Summer',\n",
       " 'Hakuouki Movie 1 Kyoto Ranbu',\n",
       " 'Hidamari Sketch x Specials',\n",
       " 'K Missing Kings',\n",
       " 'Last Exile',\n",
       " 'Little Busters EX',\n",
       " 'Mobile Suit Gundam Wing Endless Waltz Movie',\n",
       " 'Naruto Shippuuden',\n",
       " 'Pokemon The Origin',\n",
       " 'Yuru Yuri ',\n",
       " 'Zan Sayonara Zetsubou Sensei Bangaichi',\n",
       " '3 gatsu no Lion',\n",
       " '91 Days',\n",
       " 'Akagami no Shirayuki hime',\n",
       " 'Drifters',\n",
       " 'Gake no Ue no Ponyo',\n",
       " 'Ghost in the Shell 2 Innocence',\n",
       " 'Haikyuu Movie 1 Owari to Hajimari',\n",
       " 'Haikyuu OVA',\n",
       " 'Hoozuki no Reitetsu OVA',\n",
       " 'Keroro Gunsou',\n",
       " 'Lupin III Part II',\n",
       " 'Macross F Movie 1 Itsuwari no Utahime',\n",
       " 'Mobile Suit Gundam Seed',\n",
       " 'Nodame Cantabile Finale Special',\n",
       " 'Paradise Kiss',\n",
       " 'Saint Seiya The Hades Chapter Sanctuary Yomigaerishi Gold Saint tachi no Shinwa',\n",
       " 'Saraiya Goyou',\n",
       " 'Shiki Specials',\n",
       " 'Slayers Try',\n",
       " 'To LOVE Ru Darkness 2nd Specials',\n",
       " 'Transformers the Movie',\n",
       " 'Uchuu Senkan Yamato 2199 Hoshimeguru Hakobune',\n",
       " 'Wolf 039 s Rain',\n",
       " 'Akatsuki no Yona OVA',\n",
       " 'Ao no Exorcist',\n",
       " 'Claymore',\n",
       " 'Detective Conan Episode One Chiisaku Natta Meitantei',\n",
       " 'Ghost in the Shell Stand Alone Complex Solid State Society 3D',\n",
       " 'Golden Time',\n",
       " 'Hadashi no Gen',\n",
       " 'Hayate no Gotoku ',\n",
       " 'Jinrui wa Suitai Shimashita',\n",
       " 'Kyoukai no Kanata Movie I 039 ll Be Here Kako hen Yakusoku no Kizuna',\n",
       " 'Little Witch Academia Mahoujikake no Parade',\n",
       " 'Lucky Star Original na Visual to Animation',\n",
       " 'New Initial D Movie Legend 1 Kakusei',\n",
       " 'Pandora Hearts',\n",
       " 'Rurouni Kenshin DVD BOX Special Ending',\n",
       " 'Berserk Ougon Jidai hen I Haou no Tamago',\n",
       " 'Capeta',\n",
       " 'Charlotte',\n",
       " 'City Hunter 039 91',\n",
       " 'Kino no Tabi Nanika wo Suru Tame ni Life Goes On ',\n",
       " 'Lupin the IIIrd Jigen Daisuke no Bohyou',\n",
       " 'Master Keaton OVA',\n",
       " 'Mobile Suit Gundam Thunderbolt December Sky',\n",
       " 'Nisekoi',\n",
       " 'Pokemon XY amp Z',\n",
       " 'To LOVE Ru Darkness 2nd OVA',\n",
       " 'Yamada kun to 7 nin no Majo TV ',\n",
       " 'Aoi Bungaku Series',\n",
       " 'Arashi no Yoru ni',\n",
       " 'Bokura wa Minna Kawaisou',\n",
       " 'Chi 039 s Sweet Home Atarashii Ouchi',\n",
       " 'Densetsu Kyojin Ideon Hatsudou hen',\n",
       " 'Ginga Tetsudou 999',\n",
       " 'Hana yori Dango',\n",
       " 'Hanasakeru Seishounen',\n",
       " 'Hidamari Sketch x 365',\n",
       " 'Hidamari Sketch x SP',\n",
       " 'Ie Naki Ko',\n",
       " 'Michiko to Hatchin',\n",
       " 'New Initial D Movie Legend 2 Tousou',\n",
       " 'Persona 3 the Movie 2 Midsummer Knight 039 s Dream',\n",
       " 'Sexy Commando Gaiden Sugoiyo Masaru san',\n",
       " 'Tegamibachi Reverse',\n",
       " 'Ao Haru Ride',\n",
       " 'Bishoujo Senshi Sailor Moon S',\n",
       " 'Digimon Adventure',\n",
       " 'Furiko',\n",
       " 'Heartcatch Precure ',\n",
       " 'InuYasha',\n",
       " 'InuYasha Kuroi Tessaiga',\n",
       " 'InuYasha Tenka Hadou no Ken',\n",
       " 'K On Keikaku ',\n",
       " 'Kumo no Mukou Yakusoku no Basho',\n",
       " 'Lupin III vs Detective Conan',\n",
       " 'Mobile Suit Gundam',\n",
       " 'Mobile Suit Gundam III Encounters in Space',\n",
       " 'Noragami OVA',\n",
       " 'Seitokai Yakuindomo OVA',\n",
       " 'Urusei Yatsura Movie 2 Beautiful Dreamer',\n",
       " 'Yamato Nadeshiko Shichihenge ',\n",
       " 'Another',\n",
       " 'Ansatsu Kyoushitsu TV 2nd Season Kagaijugyou hen',\n",
       " 'Ao no Exorcist Movie',\n",
       " 'Arslan Senki TV ',\n",
       " 'Binbougami ga ',\n",
       " 'Black Jack',\n",
       " 'Dungeon ni Deai wo Motomeru no wa Machigatteiru Darou ka',\n",
       " 'Durarara x2 Shou Watashi no Kokoro wa Nabe Moyou',\n",
       " 'Hetalia World Series Specials',\n",
       " 'K On Live House ',\n",
       " 'Kyou kara Maou ',\n",
       " 'Kyoukai no Kanata',\n",
       " 'Mind Game',\n",
       " 'Oniisama e ',\n",
       " 'Servamp Specials',\n",
       " 'Shingeki no Kyojin OVA',\n",
       " 'Tamayura Sotsugyou Shashin Part 3 Akogare',\n",
       " 'The Last Naruto the Movie',\n",
       " 'The Law of Ueki',\n",
       " 'Code Geass Boukoku no Akito 2 Hikisakareshi Yokuryuu',\n",
       " 'Danganronpa 3 The End of Kibougamine Gakuen Mirai hen',\n",
       " 'Hai to Gensou no Grimgar',\n",
       " 'High School DxD New',\n",
       " 'Huyao Xiao Hongniang Yue Hong',\n",
       " 'Jin Rou',\n",
       " 'K On ',\n",
       " 'Kino no Tabi The Beautiful World Byouki no Kuni For You',\n",
       " 'Lucky Star',\n",
       " 'Mobile Suit Gundam Wing',\n",
       " 'Mobile Suit Gundam Wing Endless Waltz',\n",
       " 'Piano no Mori',\n",
       " 'Ranma ',\n",
       " 'Ranma OVA',\n",
       " 'Sidonia no Kishi',\n",
       " 'Slayers',\n",
       " 'Sora no Otoshimono Tokeijikake no Angeloid',\n",
       " 'Soukou Kihei Votoms',\n",
       " 'Tantei Gakuen Q',\n",
       " 'Toaru Kagaku no Railgun',\n",
       " 'Uchuu Kaizoku Captain Harlock',\n",
       " 'Watashi no Ashinaga Ojisan',\n",
       " 'Break Blade 2 Ketsubetsu no Michi',\n",
       " 'Chibi Maruko chan',\n",
       " 'Detective Conan Movie 16 The Eleventh Striker',\n",
       " 'Genshiken 2',\n",
       " 'Giovanni no Shima',\n",
       " 'Hellsing I Digest for Freaks',\n",
       " 'Kuroko no Basket Mou Ikkai Yarimasen ka',\n",
       " 'Macross F Close Encounter Deculture Edition',\n",
       " 'Non Non Biyori Repeat OVA',\n",
       " 'Nurarihyon no Mago OVA',\n",
       " 'One Piece Episode of Luffy Hand Island no Bouken',\n",
       " 'One Punch Man Specials',\n",
       " 'Seikai no Senki',\n",
       " 'Sora no Otoshimono Forte',\n",
       " 'Space Dandy',\n",
       " 'Arakawa Under the Bridge x Bridge',\n",
       " 'Detective Conan Movie 10 Promo Special',\n",
       " 'Elfen Lied',\n",
       " 'Hachimitsu to Clover Specials',\n",
       " 'Hello Lady Lynn',\n",
       " 'Kami nomi zo Shiru Sekai Tenri hen',\n",
       " 'Kimi to Boku ',\n",
       " 'Mahou Sensei Negima Mou Hitotsu no Sekai',\n",
       " 'Maria sama ga Miteru Haru',\n",
       " 'Mobile Suit Gundam 0080 War in the Pocket',\n",
       " 'Mondaiji tachi ga Isekai kara Kuru Sou Desu yo ',\n",
       " 'Nanatsu no Taizai OVA',\n",
       " 'One Punch Man Road to Hero',\n",
       " 'Romeo x Juliet',\n",
       " 'School Rumble Ichi Gakki Hoshuu',\n",
       " 'Tamayura Sotsugyou Shashin Part 2 Hibiki',\n",
       " 'Ajin Part 1 Shoudou',\n",
       " 'Akame ga Kill ',\n",
       " 'AKB0048 Next Stage',\n",
       " 'Change Getter Robo Sekai Saigo no Hi',\n",
       " 'Death Note Rewrite',\n",
       " 'Detective Conan Movie 17 Private Eye in the Distant Sea',\n",
       " 'Hakuouki Sekkaroku',\n",
       " 'Hoozuki no Reitetsu',\n",
       " 'Kuroko no Basket NG shuu',\n",
       " 'Memories',\n",
       " 'Naruto Shippuuden Movie 6 Road to Ninja',\n",
       " 'Owari no Seraph Nagoya Kessen hen',\n",
       " 'Seikai no Senki III',\n",
       " 'Seitokai Yakuindomo ',\n",
       " 'Space Cobra',\n",
       " 'Toaru Majutsu no Index II',\n",
       " 'Tsuritama',\n",
       " 'Yowamushi Pedal Movie',\n",
       " 'Yuru Yuri Nachuyachumi ',\n",
       " 'Baka to Test to Shoukanjuu',\n",
       " 'Chi 039 s Sweet Home',\n",
       " 'Densetsu no Yuusha no Densetsu',\n",
       " 'Fairy Tail OVA',\n",
       " 'Ichigo Mashimaro OVA',\n",
       " 'Kingsglaive Final Fantasy XV',\n",
       " 'Mobile Police Patlabor 2 The Movie',\n",
       " 'Persona 3 the Movie 1 Spring of Birth',\n",
       " 'Rozen Maiden Ouvert re',\n",
       " 'Seikai no Monshou',\n",
       " 'Shaman King',\n",
       " 'Sword Art Online',\n",
       " 'Tetsuwan Birdy Decode 02',\n",
       " 'Bishoujo Senshi Sailor Moon Crystal Season III',\n",
       " 'Bokurano',\n",
       " 'Bounen no Xamdou',\n",
       " 'Break Blade 6 Doukoku no Toride',\n",
       " 'Detective Conan Conan vs Kid Shark amp Jewel',\n",
       " 'Dragon Ball Z Special 2 Zetsubou e no Hankou Nokosareta Chousenshi Gohan to Trunks',\n",
       " 'Hakkenden Touhou Hakken Ibun 2nd Season',\n",
       " 'Hidamari Sketch x 365 Specials',\n",
       " 'K Return of Kings',\n",
       " 'Kill la Kill Special',\n",
       " 'Kochira Katsushikaku Kameari Kouenmae Hashutsujo TV ',\n",
       " 'Macross Plus',\n",
       " 'Macross Plus Movie Edition',\n",
       " 'Mitsudomoe Zouryouchuu ',\n",
       " 'Prince of Tennis Another Story Messages From Past and Future',\n",
       " 'Saint Seiya Meiou Hades Elysion hen',\n",
       " 'To LOVE Ru Darkness',\n",
       " 'To LOVE Ru Darkness OVA',\n",
       " 'Working ',\n",
       " 'Yume iro P tissi re SP Professional',\n",
       " 'Daa Daa Daa ',\n",
       " 'Digimon Adventure Bokura no War Game ',\n",
       " 'Eikoku Koi Monogatari Emma',\n",
       " 'Full Metal Panic ',\n",
       " 'Guilty Crown',\n",
       " 'Hoshi wo Ou Kodomo',\n",
       " 'Ima Soko ni Iru Boku',\n",
       " 'Jigoku Shoujo Mitsuganae',\n",
       " 'Kara no Kyoukai 1 Fukan Fuukei',\n",
       " 'Kimagure Orange Road Ano Hi ni Kaeritai',\n",
       " 'Kono Subarashii Sekai ni Shukufuku wo OVA',\n",
       " 'Kubikiri Cycle Aoiro Savant to Zaregototsukai',\n",
       " 'Lupin the Third Mine Fujiko to Iu Onna',\n",
       " 'Minami ke',\n",
       " 'Mobile Suit Gundam Char 039 s Counterattack',\n",
       " 'Naruto',\n",
       " 'New Game ',\n",
       " 'Shigatsu wa Kimi no Uso Moments',\n",
       " 'Top wo Nerae 2 Diebuster',\n",
       " 'Baka to Test to Shoukanjuu Matsuri',\n",
       " 'Blood ',\n",
       " 'Chrno Crusade',\n",
       " 'Free FrFr Short Movie',\n",
       " 'Fruits Basket',\n",
       " 'Gakuen Alice',\n",
       " 'Haikyuu Movie 2 Shousha to Haisha',\n",
       " 'Hourou Musuko',\n",
       " 'Huyao Xiao Hongniang Wangquan Fugui',\n",
       " 'Shoukoujo Sara',\n",
       " 'Soredemo Sekai wa Utsukushii',\n",
       " 'Tenkuu no Escaflowne',\n",
       " 'The Disappearance of Conan Edogawa The Worst Two Days in History',\n",
       " 'To LOVE Ru Darkness 2nd',\n",
       " 'Tokyo Ravens',\n",
       " 'Aikatsu Movie',\n",
       " 'Angel Beats Specials',\n",
       " 'Aria The Animation',\n",
       " 'Break Blade 1 Kakusei no Toki',\n",
       " 'Crayon Shin chan Movie 09 Arashi wo Yobu Mouretsu Otona Teikoku no Gyakushuu',\n",
       " 'Denpa teki na Kanojo',\n",
       " 'Dragon Quest Dai no Daibouken',\n",
       " 'Higashi no Eden Soushuuhen Air Communication',\n",
       " 'Ichigo Mashimaro Encore',\n",
       " 'Inu x Boku SS Special',\n",
       " 'Jigoku Shoujo',\n",
       " 'New Initial D Movie Legend 3 Mugen',\n",
       " 'Nobunaga Concerto',\n",
       " 'Panty amp Stocking with Garterbelt',\n",
       " 'Poyopoyo Kansatsu Nikki',\n",
       " 'Pretty Rhythm Rainbow Live',\n",
       " 'Ranma Super',\n",
       " 'Servant x Service',\n",
       " 'Shakugan no Shana II Second ',\n",
       " 'Tales of Vesperia The First Strike',\n",
       " 'Toaru Hikuushi e no Tsuioku',\n",
       " 'Towa no Quon 6 Towa no Quon',\n",
       " 'Ajin',\n",
       " 'Akagami no Shirayuki hime Nandemonai Takaramono Kono Page',\n",
       " 'Bishoujo Senshi Sailor Moon R The Movie',\n",
       " 'Code Geass Hangyaku no Lelouch Special Edition Black Rebellion',\n",
       " 'Full Metal Panic The Second Raid Wari to Hima na Sentaichou no Ichinichi',\n",
       " 'Ga Rei Zero',\n",
       " 'Higashi no Eden Movie II Paradise Lost',\n",
       " 'Jungle wa Itsumo Hare nochi Guu Final',\n",
       " 'Kore wa Zombie Desu ka of the Dead',\n",
       " 'Kyoukai no Kanata Shinonome',\n",
       " 'Lupin III Episode 0 quot First Contact quot ',\n",
       " 'Minami ke Tadaima',\n",
       " 'Momo e no Tegami',\n",
       " 'Nurarihyon no Mago',\n",
       " 'One Piece Episode of Sabo 3 Kyoudai no Kizuna Kiseki no Saikai to Uketsugareru Ishi',\n",
       " 'Orange',\n",
       " 'Over Drive',\n",
       " 'R O D OVA',\n",
       " 'Rakudai Kishi no Cavalry',\n",
       " 'Ranma Specials',\n",
       " 'Rozen Maiden Tr umend',\n",
       " 'Slam Dunk Hoero Basketman damashii Hanamichi to Rukawa no Atsuki Natsu',\n",
       " 'Special A',\n",
       " 'Tenchi Muyou Ryououki 2nd Season',\n",
       " 'Texhnolyze',\n",
       " 'Urusei Yatsura',\n",
       " 'Utawarerumono',\n",
       " 'Air Gear Kuro no Hane to Nemuri no Mori Break on the Sky',\n",
       " 'Black Jack 21',\n",
       " 'Digimon Adventure tri 2 Ketsui',\n",
       " 'Fushigi Yuugi',\n",
       " 'Ichigo Mashimaro',\n",
       " 'JoJo no Kimyou na Bouken Phantom Blood',\n",
       " 'Koyomimonogatari',\n",
       " 'Mobile Suit Gundam 00 Special Edition',\n",
       " 'Ojamajo Doremi Na i sho',\n",
       " 'One Piece Movie 6 Omatsuri Danshaku to Himitsu no Shima',\n",
       " 'Sengoku Basara Movie The Last Party',\n",
       " 'Shingeki no Bahamut Genesis',\n",
       " 'Tenchi Muyou Ryououki',\n",
       " 'Tonari no Kaibutsu kun',\n",
       " 'Zero no Tsukaima F',\n",
       " 'Ao Haru Ride OVA',\n",
       " 'Bishoujo Senshi Sailor Moon S Kaguya Hime no Koibito',\n",
       " 'Bokura wa Minna Kawaisou Hajimete no',\n",
       " 'Bungou Stray Dogs',\n",
       " 'Detective Conan Movie 19 The Hellfire Sunflowers',\n",
       " 'Doraemon 1979 ',\n",
       " 'Genshiken',\n",
       " 'Ginga Tetsudou 999 Movie ',\n",
       " 'Girls und Panzer Kore ga Hontou no Anzio sen Desu ',\n",
       " 'Hakuouki Hekketsuroku',\n",
       " 'Hetalia Axis Powers',\n",
       " 'Itazura na Kiss',\n",
       " 'Lupin III',\n",
       " 'Mahouka Koukou no Rettousei',\n",
       " 'Majin Tantei Nougami Neuro',\n",
       " 'Master Keaton',\n",
       " 'No 6',\n",
       " 'One Piece Movie 4 Dead End no Bouken',\n",
       " 'Senjou no Valkyria',\n",
       " 'Tegamibachi',\n",
       " 'Towa no Quon 4 Guren no Shoushin',\n",
       " 'Turn A Gundam',\n",
       " 'Bleach Movie 4 Jigoku hen',\n",
       " 'D Frag ',\n",
       " 'Detective Conan Movie 09 Promo Special',\n",
       " 'Dragon Ball Z Special 1 Tatta Hitori no Saishuu Kessen',\n",
       " 'Go Princess Precure',\n",
       " 'Hayate no Gotoku ',\n",
       " 'InuYasha Kagami no Naka no Mugenjo',\n",
       " 'Kanojo to Kanojo no Neko Everything Flows',\n",
       " 'Kara no Kyoukai Remix Gate of Seventh Heaven',\n",
       " 'Kino no Tabi The Beautiful World Tou no Kuni',\n",
       " 'Kono Danshi Ningyo Hiroimashita ',\n",
       " 'Kuroko no Basket Baka ja Katenai no yo ',\n",
       " 'Kyoukai no Kanata Movie I 039 ll Be Here Kako hen',\n",
       " 'Mahoujin Guru Guru',\n",
       " 'One Piece Heart of Gold',\n",
       " 'Shingeki no Kyojin Movie 2 Jiyuu no Tsubasa',\n",
       " 'The iDOLM STER',\n",
       " 'Trapp Ikka Monogatari',\n",
       " 'Utawarerumono Specials',\n",
       " 'World Trigger',\n",
       " 'Yuusha Ou GaoGaiGar Final Grand Glorious Gathering',\n",
       " 'Bishoujo Senshi Sailor Moon R',\n",
       " 'Black Jack TV ',\n",
       " 'Cardcaptor Sakura Movie 1',\n",
       " 'Detective Conan Black History',\n",
       " 'Fullmetal Alchemist The Conqueror of Shamballa',\n",
       " 'Genshiken OVA',\n",
       " 'Hal',\n",
       " 'Heartcatch Precure Movie Hana no Miyako de Fashion Show Desu ka ',\n",
       " 'Higashi no Eden Movie I The King of Eden',\n",
       " 'Hungry Heart Wild Striker',\n",
       " 'Initial D Battle Stage 2',\n",
       " 'Kekkai Sensen',\n",
       " 'Love Stage OVA',\n",
       " 'Mahou Shoujo Lyrical Nanoha StrikerS',\n",
       " 'Mousou Dairinin',\n",
       " 'Muumindani no Suisei',\n",
       " 'Noein Mou Hitori no Kimi e',\n",
       " 'Persona 3 the Movie 3 Falling Down',\n",
       " 'Sengoku Basara Two',\n",
       " 'Shakugan no Shana',\n",
       " 'Soukyuu no Fafner Dead Aggressor Exodus 2nd Season',\n",
       " 'Taiyou no Ko Esteban',\n",
       " 'Toriko',\n",
       " 'UN GO Inga ron',\n",
       " 'Crayon Shin chan',\n",
       " 'Diamond no Ace OVA',\n",
       " 'Doraemon Movie 31 Shin Nobita to Tetsujin Heidan Habatake Tenshi tachi',\n",
       " 'Flip Flappers',\n",
       " 'GetBackers',\n",
       " 'K',\n",
       " 'Katekyo Hitman Reborn Special',\n",
       " 'Kekkaishi',\n",
       " 'Kuroshitsuji II Specials',\n",
       " ...]"
      ]
     },
     "execution_count": 64,
     "metadata": {},
     "output_type": "execute_result"
    }
   ],
   "source": [
    "all_anime_names = list(data.name)\n",
    "all_anime_names"
   ]
  },
  {
   "cell_type": "code",
   "execution_count": 65,
   "metadata": {
    "id": "juRCn9ZUmY1G"
   },
   "outputs": [],
   "source": [
    "#--Returns index of all animes having substring in their name--#\n",
    "def get_id_from_partial_name(partial):\n",
    "    for name in all_anime_names:\n",
    "        if partial in name:\n",
    "            print(name,all_anime_names.index(name))"
   ]
  },
  {
   "cell_type": "code",
   "execution_count": 66,
   "metadata": {
    "id": "8tHMaZGImeSq"
   },
   "outputs": [],
   "source": [
    "#--Prints top 5 similar animes--#\n",
    "def print_similar_animes(query=None,id=None):\n",
    "    if id:\n",
    "        for id in indices[id][1:]:\n",
    "            print(data.loc[id][\"name\"]+' -------> '+data.loc[id][\"genre\"])\n",
    "    if query:\n",
    "        found_id = get_index_from_name(query)\n",
    "        for id in indices[found_id][1:]:\n",
    "            print(data.loc[id][\"name\"]+' -------> '+data.loc[id][\"genre\"])"
   ]
  },
  {
   "cell_type": "code",
   "execution_count": 67,
   "metadata": {
    "colab": {
     "base_uri": "https://localhost:8080/"
    },
    "id": "RWunIcwcmm_y",
    "outputId": "53718a4d-fd2b-48f4-e975-6691f830552f"
   },
   "outputs": [
    {
     "name": "stdout",
     "output_type": "stream",
     "text": [
      "Fullmetal Alchemist Brotherhood 1\n",
      "Fullmetal Alchemist 200\n",
      "Fullmetal Alchemist Brotherhood Specials 402\n",
      "Fullmetal Alchemist The Conqueror of Shamballa 971\n",
      "Fullmetal Alchemist Brotherhood 4 Koma Theater 1030\n",
      "Fullmetal Alchemist The Sacred Star of Milos 1558\n",
      "Fullmetal Alchemist Premium Collection 1742\n",
      "Fullmetal Alchemist Reflections 1967\n",
      "Fullmetal Alchemist The Sacred Star of Milos Specials 2397\n"
     ]
    }
   ],
   "source": [
    "get_id_from_partial_name('Fullmetal')"
   ]
  },
  {
   "cell_type": "code",
   "execution_count": 68,
   "metadata": {
    "colab": {
     "base_uri": "https://localhost:8080/"
    },
    "id": "EDdkswY5mo63",
    "outputId": "04a48504-f3c1-4b08-9f60-deab6a7c13e7"
   },
   "outputs": [
    {
     "data": {
      "text/plain": [
       "346"
      ]
     },
     "execution_count": 68,
     "metadata": {},
     "output_type": "execute_result"
    }
   ],
   "source": [
    "get_index_from_name('Dragon Ball')"
   ]
  },
  {
   "cell_type": "code",
   "execution_count": 69,
   "metadata": {
    "colab": {
     "base_uri": "https://localhost:8080/"
    },
    "id": "QWAFxfF7mqSM",
    "outputId": "3361e1ac-0a6d-419b-f401-e942d24a52b2"
   },
   "outputs": [
    {
     "name": "stdout",
     "output_type": "stream",
     "text": [
      "Shingeki no Kyojin Season 2 -------> Action, Drama, Fantasy, Shounen, Super Power\n",
      "One Piece -------> Action, Adventure, Comedy, Drama, Fantasy, Shounen, Super Power\n",
      "Shingeki no Kyojin OVA -------> Action, Drama, Fantasy, Shounen, Super Power\n",
      "Utawarerumono Itsuwari no Kamen -------> Action, Drama, Fantasy\n",
      "Shingeki no Kyojin Ano Hi Kara -------> Action, Drama, Fantasy, Shounen, Super Power\n"
     ]
    }
   ],
   "source": [
    "print_similar_animes(id=86)"
   ]
  },
  {
   "cell_type": "code",
   "execution_count": 70,
   "metadata": {
    "colab": {
     "base_uri": "https://localhost:8080/"
    },
    "id": "GSjTAUBJmrk5",
    "outputId": "bfccc5f0-0121-43a2-b3d9-c1ca00c71409"
   },
   "outputs": [
    {
     "name": "stdout",
     "output_type": "stream",
     "text": [
      "Magi The Labyrinth of Magic 268\n",
      "Doraemon Movie 14 Nobita to Buriki no Labyrinth 2439\n",
      "Suteki Tantei Labyrinth 3599\n",
      "Honoo no Labyrinth 5684\n"
     ]
    }
   ],
   "source": [
    "get_id_from_partial_name('Labyrinth')"
   ]
  },
  {
   "cell_type": "code",
   "execution_count": 71,
   "metadata": {
    "colab": {
     "base_uri": "https://localhost:8080/"
    },
    "id": "uSSjzXpnmtH3",
    "outputId": "b8385fb4-d412-4c49-f655-9e268415d3db"
   },
   "outputs": [
    {
     "name": "stdout",
     "output_type": "stream",
     "text": [
      "Naruto Shippuuden -------> Action, Comedy, Martial Arts, Shounen, Super Power\n",
      "Katekyo Hitman Reborn  -------> Action, Comedy, Shounen, Super Power\n",
      "Bleach -------> Action, Comedy, Shounen, Super Power, Supernatural\n",
      "Dragon Ball Z -------> Action, Adventure, Comedy, Fantasy, Martial Arts, Shounen, Super Power\n",
      "Boku no Hero Academia -------> Action, Comedy, School, Shounen, Super Power\n"
     ]
    }
   ],
   "source": [
    "print_similar_animes(query='Naruto')"
   ]
  },
  {
   "cell_type": "markdown",
   "metadata": {},
   "source": [
    "# Visualization"
   ]
  },
  {
   "cell_type": "markdown",
   "metadata": {},
   "source": [
    "#### Visualizing the average ratings for each type of entertainment"
   ]
  },
  {
   "cell_type": "code",
   "execution_count": 63,
   "metadata": {},
   "outputs": [
    {
     "data": {
      "text/html": [
       "<div>\n",
       "<style scoped>\n",
       "    .dataframe tbody tr th:only-of-type {\n",
       "        vertical-align: middle;\n",
       "    }\n",
       "\n",
       "    .dataframe tbody tr th {\n",
       "        vertical-align: top;\n",
       "    }\n",
       "\n",
       "    .dataframe thead th {\n",
       "        text-align: right;\n",
       "    }\n",
       "</style>\n",
       "<table border=\"1\" class=\"dataframe\">\n",
       "  <thead>\n",
       "    <tr style=\"text-align: right;\">\n",
       "      <th></th>\n",
       "      <th>type</th>\n",
       "      <th>mean</th>\n",
       "    </tr>\n",
       "  </thead>\n",
       "  <tbody>\n",
       "    <tr>\n",
       "      <th>0</th>\n",
       "      <td>Movie</td>\n",
       "      <td>6.321443</td>\n",
       "    </tr>\n",
       "    <tr>\n",
       "      <th>1</th>\n",
       "      <td>Music</td>\n",
       "      <td>5.588996</td>\n",
       "    </tr>\n",
       "    <tr>\n",
       "      <th>2</th>\n",
       "      <td>ONA</td>\n",
       "      <td>5.652120</td>\n",
       "    </tr>\n",
       "    <tr>\n",
       "      <th>3</th>\n",
       "      <td>OVA</td>\n",
       "      <td>6.375996</td>\n",
       "    </tr>\n",
       "    <tr>\n",
       "      <th>4</th>\n",
       "      <td>Special</td>\n",
       "      <td>6.523353</td>\n",
       "    </tr>\n",
       "    <tr>\n",
       "      <th>5</th>\n",
       "      <td>TV</td>\n",
       "      <td>6.889177</td>\n",
       "    </tr>\n",
       "  </tbody>\n",
       "</table>\n",
       "</div>"
      ],
      "text/plain": [
       "      type      mean\n",
       "0    Movie  6.321443\n",
       "1    Music  5.588996\n",
       "2      ONA  5.652120\n",
       "3      OVA  6.375996\n",
       "4  Special  6.523353\n",
       "5       TV  6.889177"
      ]
     },
     "execution_count": 63,
     "metadata": {},
     "output_type": "execute_result"
    }
   ],
   "source": [
    "data_new=pd.DataFrame({'mean': data.groupby(\"type\")[\"rating\"].mean()}).reset_index()\n",
    "data_new"
   ]
  },
  {
   "cell_type": "code",
   "execution_count": 64,
   "metadata": {
    "colab": {
     "base_uri": "https://localhost:8080/",
     "height": 609
    },
    "id": "hrJn0MhPmwvw",
    "outputId": "a15b8c82-18d3-45f8-9fec-a9d471b9f41a"
   },
   "outputs": [
    {
     "data": {
      "text/plain": [
       "<BarContainer object of 6 artists>"
      ]
     },
     "execution_count": 64,
     "metadata": {},
     "output_type": "execute_result"
    },
    {
     "data": {
      "image/png": "[encoded data removed]",
      "text/plain": [
       "<Figure size 720x720 with 1 Axes>"
      ]
     },
     "metadata": {},
     "output_type": "display_data"
    }
   ],
   "source": [
    "import matplotlib.pyplot as plt\n",
    "plt.figure(figsize=(10,10))\n",
    "plt.bar(data_new[\"type\"], data_new[\"mean\"])"
   ]
  },
  {
   "cell_type": "code",
   "execution_count": 49,
   "metadata": {
    "colab": {
     "base_uri": "https://localhost:8080/"
    },
    "id": "BrwXe9sA372R",
    "outputId": "1b63ee18-0d4f-4fbe-c8ba-9fac34e7d641"
   },
   "outputs": [
    {
     "data": {
      "text/plain": [
       "type\n",
       "Movie      6.321443\n",
       "Music      5.588996\n",
       "ONA        5.652120\n",
       "OVA        6.375996\n",
       "Special    6.523353\n",
       "TV         6.889177\n",
       "Name: rating, dtype: float64"
      ]
     },
     "execution_count": 49,
     "metadata": {},
     "output_type": "execute_result"
    }
   ],
   "source": [
    "n_by_state = data.groupby(\"type\")[\"rating\"].mean()\n",
    "n_by_state.head(10)"
   ]
  },
  {
   "cell_type": "code",
   "execution_count": 50,
   "metadata": {
    "id": "rRQcQZXw7Thl"
   },
   "outputs": [],
   "source": [
    "data_new=pd.DataFrame({'mean' : data.groupby(\"type\")[\"rating\"].mean()}).reset_index()"
   ]
  },
  {
   "cell_type": "code",
   "execution_count": 51,
   "metadata": {
    "colab": {
     "base_uri": "https://localhost:8080/",
     "height": 235
    },
    "id": "fAlaCw2Z7_yU",
    "outputId": "c7748577-7970-4468-d06f-bf84e890e304"
   },
   "outputs": [
    {
     "data": {
      "text/html": [
       "<div>\n",
       "<style scoped>\n",
       "    .dataframe tbody tr th:only-of-type {\n",
       "        vertical-align: middle;\n",
       "    }\n",
       "\n",
       "    .dataframe tbody tr th {\n",
       "        vertical-align: top;\n",
       "    }\n",
       "\n",
       "    .dataframe thead th {\n",
       "        text-align: right;\n",
       "    }\n",
       "</style>\n",
       "<table border=\"1\" class=\"dataframe\">\n",
       "  <thead>\n",
       "    <tr style=\"text-align: right;\">\n",
       "      <th></th>\n",
       "      <th>type</th>\n",
       "      <th>mean</th>\n",
       "    </tr>\n",
       "  </thead>\n",
       "  <tbody>\n",
       "    <tr>\n",
       "      <th>0</th>\n",
       "      <td>Movie</td>\n",
       "      <td>6.321443</td>\n",
       "    </tr>\n",
       "    <tr>\n",
       "      <th>1</th>\n",
       "      <td>Music</td>\n",
       "      <td>5.588996</td>\n",
       "    </tr>\n",
       "    <tr>\n",
       "      <th>2</th>\n",
       "      <td>ONA</td>\n",
       "      <td>5.652120</td>\n",
       "    </tr>\n",
       "    <tr>\n",
       "      <th>3</th>\n",
       "      <td>OVA</td>\n",
       "      <td>6.375996</td>\n",
       "    </tr>\n",
       "    <tr>\n",
       "      <th>4</th>\n",
       "      <td>Special</td>\n",
       "      <td>6.523353</td>\n",
       "    </tr>\n",
       "    <tr>\n",
       "      <th>5</th>\n",
       "      <td>TV</td>\n",
       "      <td>6.889177</td>\n",
       "    </tr>\n",
       "  </tbody>\n",
       "</table>\n",
       "</div>"
      ],
      "text/plain": [
       "      type      mean\n",
       "0    Movie  6.321443\n",
       "1    Music  5.588996\n",
       "2      ONA  5.652120\n",
       "3      OVA  6.375996\n",
       "4  Special  6.523353\n",
       "5       TV  6.889177"
      ]
     },
     "execution_count": 51,
     "metadata": {},
     "output_type": "execute_result"
    }
   ],
   "source": [
    "data_new"
   ]
  },
  {
   "cell_type": "markdown",
   "metadata": {
    "id": "lyDW7QWBIYTJ"
   },
   "source": [
    "#### Plotting no. of animes in each genre"
   ]
  },
  {
   "cell_type": "code",
   "execution_count": 53,
   "metadata": {
    "colab": {
     "base_uri": "https://localhost:8080/",
     "height": 731
    },
    "id": "xHpy0D7wGzGX",
    "outputId": "41600217-dfb7-4a1d-9136-87b0f9fe9659"
   },
   "outputs": [
    {
     "data": {
      "text/plain": [
       "[Text(0, 0.5, 'Genre'), Text(0.5, 0, 'Anime Count')]"
      ]
     },
     "execution_count": 53,
     "metadata": {},
     "output_type": "execute_result"
    },
    {
     "data": {
      "image/png": "[encoded data removed]",
      "text/plain": [
       "<Figure size 576x864 with 1 Axes>"
      ]
     },
     "metadata": {
      "needs_background": "light"
     },
     "output_type": "display_data"
    }
   ],
   "source": [
    "import itertools\n",
    "import collections\n",
    "\n",
    "import seaborn as sns\n",
    "\n",
    "animes = pd.read_csv('anime.csv') # load the data\n",
    "animes['genre'] = animes['genre'].fillna('None') # filling 'empty' data\n",
    "animes['genre'] = animes['genre'].apply(lambda x: x.split(', ')) # split genre into list of individual genre\n",
    "\n",
    "genre_data = itertools.chain(*animes['genre'].values.tolist()) # flatten the list\n",
    "genre_counter = collections.Counter(genre_data)\n",
    "genres = pd.DataFrame.from_dict(genre_counter, orient='index').reset_index().rename(columns={'index':'genre', 0:'count'})\n",
    "genres.sort_values('count', ascending=False, inplace=True)\n",
    "\n",
    "# Plot genre\n",
    "f, ax = plt.subplots(figsize=(8, 12))\n",
    "sns.set_color_codes(\"pastel\")\n",
    "sns.set_style(\"white\")\n",
    "sns.barplot(x=\"count\", y=\"genre\", data=genres, color='b')\n",
    "ax.set(ylabel='Genre',xlabel=\"Anime Count\")"
   ]
  },
  {
   "cell_type": "code",
   "execution_count": 54,
   "metadata": {
    "id": "zTNokWGlJOYy"
   },
   "outputs": [],
   "source": [
    "data = data.replace({'Harem': 'Hentai'}, regex=True)\n",
    "data = data.replace({'Ecchi': 'Hentai'}, regex=True)\n",
    "data = data.replace({'Shoujo Ai': 'Hentai'}, regex=True)\n",
    "data = data.replace({'Yaoi': 'Hentai'}, regex=True)\n",
    "data = data.replace({'Yuri': 'Hentai'}, regex=True)\n",
    "data = data.replace({'Shounen Ai': 'Hentai'}, regex=True)\n",
    "\n",
    "data = data.replace({'Demons': 'Vampire'}, regex=True)\n",
    "\n",
    "data = data.replace({'Supernatural': 'Magic'}, regex=True)\n",
    "data = data.replace({'Super Power': 'Magic'}, regex=True)\n",
    "data = data.replace({'Sci-Fi': 'Magic'}, regex=True)"
   ]
  },
  {
   "cell_type": "code",
   "execution_count": 55,
   "metadata": {
    "colab": {
     "base_uri": "https://localhost:8080/"
    },
    "id": "Z8IwiCTiJQN-",
    "outputId": "8caded33-2f4b-41db-98f6-17d47c818a87"
   },
   "outputs": [
    {
     "name": "stdout",
     "output_type": "stream",
     "text": [
      "{'Military', 'Magic', 'Action', 'Horror', 'Samurai', 'Mystery', 'Music', 'Slice of Life', 'Seinen', 'Space', 'Romance', 'Sports', 'Mecha', 'Game', 'Parody', 'Martial Arts', 'Dementia', 'Kids', 'Thriller', 'Shounen', 'Hentai', 'Police', 'Psychological', 'Cars', 'Josei', 'Vampire', 'Adventure', 'Fantasy', 'School', 'Comedy', 'Historical', 'Drama', 'Shoujo'}\n",
      "Total Genres: 33\n"
     ]
    }
   ],
   "source": [
    "genres = set()\n",
    "for entry in data['genre']:\n",
    "    if not type(entry) is str:\n",
    "        continue\n",
    "    genres.update(entry.split(\", \"))\n",
    "print(genres)\n",
    "print(\"Total Genres: \" + str(len(genres)))"
   ]
  },
  {
   "cell_type": "markdown",
   "metadata": {
    "id": "RW2n_iBSJUL6"
   },
   "source": []
  },
  {
   "cell_type": "markdown",
   "metadata": {
    "colab": {
     "base_uri": "https://localhost:8080/"
    },
    "id": "n-MBkRlmJUdC",
    "outputId": "782fc923-aac2-4cc0-e505-f61ec2f21a4a"
   },
   "source": [
    "genres_count = collections.defaultdict(int)\n",
    "for entry in data['genre']:\n",
    "    if not type(entry) is str:\n",
    "        continue\n",
    "    seen_already = set()\n",
    "    for genre in entry.split(\", \"):\n",
    "        if genre in seen_already:\n",
    "            continue\n",
    "        seen_already.add(genre)\n",
    "        genres_count[genre] += 1\n",
    "sorted(genres_count.items(), key=operator.itemgetter(1), reverse=True)"
   ]
  },
  {
   "cell_type": "code",
   "execution_count": 57,
   "metadata": {
    "colab": {
     "base_uri": "https://localhost:8080/",
     "height": 893
    },
    "id": "-u5Z1_hSIZE9",
    "outputId": "fedc77c3-76fe-456a-c078-9e7653339f3b"
   },
   "outputs": [
    {
     "data": {
      "image/png": "[encoded data removed]",
      "text/plain": [
       "<Figure size 1080x1080 with 1 Axes>"
      ]
     },
     "metadata": {},
     "output_type": "display_data"
    }
   ],
   "source": [
    "\n",
    "import operator\n",
    "fig = plt.figure(figsize=(15,15))\n",
    "ax = plt.gca()\n",
    "plt.title('All Animes Rating vs. Popularity By Genre')\n",
    "plt.xlabel('Rating')\n",
    "plt.ylabel('Popularity (People)')\n",
    "num_colors = len(genres)\n",
    "cm = plt.get_cmap('gist_rainbow')\n",
    "ax.set_prop_cycle('color', [cm(1. * i / num_colors) for i in range(num_colors)])\n",
    "ax.set_yscale('log')\n",
    "# For each genre, plot data point if it falls in that category\n",
    "for genre in genres:\n",
    "    data_genre = data[data.genre.str.contains(genre) == True]\n",
    "    ax.plot(data_genre[\"rating\"], data_genre[\"members\"], marker='o', linestyle='', ms=12, label=genre)\n",
    "ax.legend(numpoints=1, loc='upper left');"
   ]
  },
  {
   "cell_type": "markdown",
   "metadata": {
    "id": "oN91NsLrmsnI"
   },
   "source": []
  }
 ],
 "metadata": {
  "colab": {
   "collapsed_sections": [],
   "name": "BDA_MiniProject.ipynb",
   "provenance": []
  },
  "kernelspec": {
   "display_name": "Python 3",
   "language": "python",
   "name": "python3"
  },
  "language_info": {
   "codemirror_mode": {
    "name": "ipython",
    "version": 3
   },
   "file_extension": ".py",
   "mimetype": "text/x-python",
   "name": "python",
   "nbconvert_exporter": "python",
   "pygments_lexer": "ipython3",
   "version": "3.6.9"
  }
 },
 "nbformat": 4,
 "nbformat_minor": 1
}
